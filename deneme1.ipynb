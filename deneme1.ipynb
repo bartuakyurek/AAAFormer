{
 "cells": [
  {
   "cell_type": "markdown",
   "metadata": {
    "id": "pXD3nzm8Ct1o"
   },
   "source": []
  },
  {
   "cell_type": "code",
   "execution_count": 1,
   "metadata": {
    "executionInfo": {
     "elapsed": 4268,
     "status": "ok",
     "timestamp": 1686421807783,
     "user": {
      "displayName": "Bartu Akyürek",
      "userId": "00827499266119122923"
     },
     "user_tz": -180
    },
    "id": "k-aLaBEHCrCG"
   },
   "outputs": [],
   "source": [
    "# General Dependencies\n",
    "\n",
    "import os\n",
    "import math\n",
    "import numpy as np\n",
    "import torch\n",
    "\n",
    "# Lines below are reloading modules every time you run a cell,\n",
    "# such that this cell doesn't have to be re-run every time something\n",
    "# changes in the source code.\n",
    "#%load_ext autoreload \n",
    "#%autoreload 2"
   ]
  },
  {
   "cell_type": "code",
   "execution_count": 2,
   "metadata": {
    "colab": {
     "base_uri": "https://localhost:8080/"
    },
    "executionInfo": {
     "elapsed": 33988,
     "status": "ok",
     "timestamp": 1686421841766,
     "user": {
      "displayName": "Bartu Akyürek",
      "userId": "00827499266119122923"
     },
     "user_tz": -180
    },
    "id": "EeduFwG_CuOC",
    "outputId": "4d84e8d8-52bb-488e-a0f7-26a5f35ac19f"
   },
   "outputs": [],
   "source": [
    "\"\"\"\n",
    "Run from Colab or local\n",
    "\"\"\"\n",
    "\n",
    "try:\n",
    "    from google.colab import drive\n",
    "    drive.mount('/content/gdrive')\n",
    "    ROOT_PATH = \"/content/gdrive/MyDrive/502-796-Projects/502/deneme-1\"\n",
    "    %cd ./gdrive/MyDrive/502-796-Projects/502/deneme-1\n",
    "except:\n",
    "    ROOT_PATH = os.curdir\n",
    "\n",
    "\n",
    "DATA_PATH = os.path.join(ROOT_PATH, \"Datasets\")"
   ]
  },
  {
   "cell_type": "code",
   "execution_count": 3,
   "metadata": {
    "executionInfo": {
     "elapsed": 7260,
     "status": "ok",
     "timestamp": 1686421849015,
     "user": {
      "displayName": "Bartu Akyürek",
      "userId": "00827499266119122923"
     },
     "user_tz": -180
    },
    "id": "E7E03tmxKfrK"
   },
   "outputs": [],
   "source": [
    "# Source dependencies\n",
    "from data.dataset import FSSDataset\n",
    "from common.vis import Visualizer\n",
    "from common.evaluation import Evaluator"
   ]
  },
  {
   "cell_type": "markdown",
   "metadata": {
    "id": "vw8PulDqFF0Z"
   },
   "source": [
    "## Prepare PASCAL-$5^i$ Dataset"
   ]
  },
  {
   "cell_type": "code",
   "execution_count": 4,
   "metadata": {
    "executionInfo": {
     "elapsed": 10,
     "status": "ok",
     "timestamp": 1686421849017,
     "user": {
      "displayName": "Bartu Akyürek",
      "userId": "00827499266119122923"
     },
     "user_tz": -180
    },
    "id": "SMLSQDPuEG2g"
   },
   "outputs": [],
   "source": [
    "# STEP 1: Download PASCAL VOC2012 devkit (train/val data): (uncomment lines below)\n",
    "# ------------------------------------------------------------------------------\n",
    "#!wget http://host.robots.ox.ac.uk/pascal/VOC/voc2012/VOCtrainval_11-May-2012.tar\n",
    "#!tar -xvf 'VOCtrainval_11-May-2012.tar' -C ./Datasets/ \n",
    "\n",
    "# (or instead of wget, use directly the link to download)\n",
    "# STEP 2: Place \"VOC2012\" folder from downloaded \"VOCdevkit\" folder under a \"Datasets\" folder.\n",
    "# ------------------------------------------------------------------------------\n",
    "#!mv Datasets/VOCdevkit/VOC2012 Datasets/VOC2012\n",
    "\n",
    "# STEP 3: Download extended annotations from here\n",
    "#!wget https://drive.google.com/file/d/10zxG2VExoEZUeyQl_uXga2OWHjGeZaf2/view\n",
    "\n",
    "# STEP 4: Extract Put the downloaded extension under \"Datasets/VOC2012/\"\n"
   ]
  },
  {
   "cell_type": "code",
   "execution_count": 5,
   "metadata": {
    "colab": {
     "base_uri": "https://localhost:8080/"
    },
    "executionInfo": {
     "elapsed": 2931,
     "status": "ok",
     "timestamp": 1686421851941,
     "user": {
      "displayName": "Bartu Akyürek",
      "userId": "00827499266119122923"
     },
     "user_tz": -180
    },
    "id": "N_HwSM49MOSM",
    "outputId": "080267d2-3ccd-4590-f82b-e03625e8f8f4"
   },
   "outputs": [
    {
     "name": "stdout",
     "output_type": "stream",
     "text": [
      "Total (trn) images are : 11394\n",
      "Total (val) images are : 346\n"
     ]
    }
   ],
   "source": [
    "# Dataset initialization \n",
    "# TODO: does paper mention about image size? (the reference code is using im_size 400)\n",
    "# TODO: add disclaimer to dataset files https://github.com/juhongm999/hsnet/blob/main/train.py\n",
    "FSSDataset.initialize(img_size=128, datapath=DATA_PATH, use_original_imgsize=False)\n",
    "dataloader_trn = FSSDataset.build_dataloader(benchmark='pascal', bsz=4, nworker=1, fold=0, split='trn')\n",
    "dataloader_val = FSSDataset.build_dataloader(benchmark='pascal', bsz=4, nworker=1, fold=0, split='val')"
   ]
  },
  {
   "cell_type": "markdown",
   "metadata": {
    "id": "SVGX4VW3HkTN"
   },
   "source": [
    "## deneme"
   ]
  },
  {
   "cell_type": "code",
   "execution_count": 6,
   "metadata": {
    "executionInfo": {
     "elapsed": 9,
     "status": "ok",
     "timestamp": 1686421849018,
     "user": {
      "displayName": "Bartu Akyürek",
      "userId": "00827499266119122923"
     },
     "user_tz": -180
    },
    "id": "WvVXL82vHiF8"
   },
   "outputs": [],
   "source": [
    "Visualizer.initialize(True)\n",
    "Evaluator.initialize()"
   ]
  },
  {
   "cell_type": "code",
   "execution_count": 7,
   "metadata": {
    "colab": {
     "base_uri": "https://localhost:8080/",
     "height": 676
    },
    "executionInfo": {
     "elapsed": 16630,
     "status": "error",
     "timestamp": 1686421870078,
     "user": {
      "displayName": "Bartu Akyürek",
      "userId": "00827499266119122923"
     },
     "user_tz": -180
    },
    "id": "nXPe83EmgIuM",
    "outputId": "da36625f-3359-4955-eaf8-e66734fe43bf"
   },
   "outputs": [
    {
     "data": {
      "text/plain": [
       "\" Code below visualizes prediction (to be used in testing)\\n\\nfor idx, batch in enumerate(dataloader_trn):\\n        # 1. Hypercorrelation Squeeze Networks forward pass\\n        #batch = utils.to_cuda(batch)\\n        #pred_mask = model.module.predict_mask_nshot(batch, nshot=nshot)\\n\\n        #assert pred_mask.size() == batch['query_mask'].size()\\n        pred_mask = batch['query_mask']\\n\\n        # 2. Evaluate prediction\\n        area_inter, area_union = Evaluator.classify_prediction(pred_mask.clone(), batch)\\n        \\n        #average_meter.update(area_inter, area_union, batch['class_id'], loss=None)\\n        #average_meter.write_process(idx, len(dataloader), epoch=-1, write_batch_idx=1)\\n\\n        # Visualize predictions\\n        if Visualizer.visualize:\\n            Visualizer.visualize_prediction_batch(batch['support_imgs'], batch['support_masks'],\\n                                                  batch['query_img'], batch['query_mask'],\\n                                                  pred_mask, batch['class_id'], idx,\\n                                                  area_inter[1].float() / area_union[1].float())\\n\""
      ]
     },
     "execution_count": 7,
     "metadata": {},
     "output_type": "execute_result"
    }
   ],
   "source": [
    "\"\"\" Code below visualizes prediction (to be used in testing)\n",
    "\n",
    "for idx, batch in enumerate(dataloader_trn):\n",
    "        # 1. Hypercorrelation Squeeze Networks forward pass\n",
    "        #batch = utils.to_cuda(batch)\n",
    "        #pred_mask = model.module.predict_mask_nshot(batch, nshot=nshot)\n",
    "\n",
    "        #assert pred_mask.size() == batch['query_mask'].size()\n",
    "        pred_mask = batch['query_mask']\n",
    "\n",
    "        # 2. Evaluate prediction\n",
    "        area_inter, area_union = Evaluator.classify_prediction(pred_mask.clone(), batch)\n",
    "        \n",
    "        #average_meter.update(area_inter, area_union, batch['class_id'], loss=None)\n",
    "        #average_meter.write_process(idx, len(dataloader), epoch=-1, write_batch_idx=1)\n",
    "\n",
    "        # Visualize predictions\n",
    "        if Visualizer.visualize:\n",
    "            Visualizer.visualize_prediction_batch(batch['support_imgs'], batch['support_masks'],\n",
    "                                                  batch['query_img'], batch['query_mask'],\n",
    "                                                  pred_mask, batch['class_id'], idx,\n",
    "                                                  area_inter[1].float() / area_union[1].float())\n",
    "\"\"\"\n"
   ]
  },
  {
   "cell_type": "markdown",
   "metadata": {},
   "source": [
    "## Extract features"
   ]
  },
  {
   "cell_type": "code",
   "execution_count": 8,
   "metadata": {},
   "outputs": [],
   "source": [
    "from model import feature"
   ]
  },
  {
   "cell_type": "code",
   "execution_count": 9,
   "metadata": {},
   "outputs": [
    {
     "name": "stderr",
     "output_type": "stream",
     "text": [
      "C:\\Users\\bartu\\anaconda3\\lib\\site-packages\\torchvision\\models\\_utils.py:208: UserWarning: The parameter 'pretrained' is deprecated since 0.13 and may be removed in the future, please use 'weights' instead.\n",
      "  warnings.warn(\n",
      "C:\\Users\\bartu\\anaconda3\\lib\\site-packages\\torchvision\\models\\_utils.py:223: UserWarning: Arguments other than a weight enum or `None` for 'weights' are deprecated since 0.13 and may be removed in the future. The current behavior is equivalent to passing `weights=ResNet50_Weights.IMAGENET1K_V1`. You can also use `weights=ResNet50_Weights.DEFAULT` to get the most up-to-date weights.\n",
      "  warnings.warn(msg)\n"
     ]
    }
   ],
   "source": [
    "from torchvision.models import resnet\n",
    "from functools import reduce\n",
    "from operator import add\n",
    "\n",
    "for idx, batch in enumerate(dataloader_trn):\n",
    "\n",
    "    \n",
    "    query_img = batch['query_img']\n",
    "    \n",
    "    backbone = resnet.resnet50(pretrained=True)\n",
    "    \n",
    "    \n",
    "    nbottlenecks = [3, 4, 6, 3] # Resnet50\n",
    "    \n",
    "    feat_ids = list(range(4, 17))\n",
    "    bottleneck_ids = reduce(add, list(map(lambda x: list(range(x)), nbottlenecks)))\n",
    "    \n",
    "    lids = reduce(add, [[i + 1] * x for i, x in enumerate(nbottlenecks)])\n",
    "    stack_ids = torch.tensor(lids).bincount().__reversed__().cumsum(dim=0)[:3]\n",
    "    backbone.eval()\n",
    "    \n",
    "    query_feats = feature.extract_feat_res(query_img, backbone,  feat_ids, bottleneck_ids, lids)\n",
    "    \n",
    "    break"
   ]
  },
  {
   "cell_type": "code",
   "execution_count": 10,
   "metadata": {},
   "outputs": [
    {
     "name": "stdout",
     "output_type": "stream",
     "text": [
      "13\n"
     ]
    }
   ],
   "source": [
    "print(len(query_feats))\n",
    " \n"
   ]
  },
  {
   "cell_type": "code",
   "execution_count": 11,
   "metadata": {},
   "outputs": [
    {
     "name": "stdout",
     "output_type": "stream",
     "text": [
      "torch.Size([4, 512, 16, 16])\n",
      "torch.Size([4, 512, 16, 16])\n",
      "torch.Size([4, 512, 16, 16])\n",
      "torch.Size([4, 512, 16, 16])\n",
      "torch.Size([4, 1024, 8, 8])\n",
      "torch.Size([4, 1024, 8, 8])\n",
      "torch.Size([4, 1024, 8, 8])\n",
      "torch.Size([4, 1024, 8, 8])\n",
      "torch.Size([4, 1024, 8, 8])\n",
      "torch.Size([4, 1024, 8, 8])\n",
      "torch.Size([4, 2048, 4, 4])\n",
      "torch.Size([4, 2048, 4, 4])\n",
      "torch.Size([4, 2048, 4, 4])\n"
     ]
    }
   ],
   "source": [
    "for feat in query_feats:\n",
    "    print(feat.shape)"
   ]
  },
  {
   "cell_type": "code",
   "execution_count": null,
   "metadata": {},
   "outputs": [],
   "source": []
  }
 ],
 "metadata": {
  "colab": {
   "authorship_tag": "ABX9TyPNbLymlf6He9Um7j1Pemtn",
   "provenance": []
  },
  "kernelspec": {
   "display_name": "Python 3 (ipykernel)",
   "language": "python",
   "name": "python3"
  },
  "language_info": {
   "codemirror_mode": {
    "name": "ipython",
    "version": 3
   },
   "file_extension": ".py",
   "mimetype": "text/x-python",
   "name": "python",
   "nbconvert_exporter": "python",
   "pygments_lexer": "ipython3",
   "version": "3.10.9"
  }
 },
 "nbformat": 4,
 "nbformat_minor": 1
}
