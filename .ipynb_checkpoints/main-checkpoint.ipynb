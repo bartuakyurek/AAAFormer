{
 "cells": [
  {
   "cell_type": "markdown",
   "metadata": {
    "id": "Sb1Cl230zcBr",
    "tags": []
   },
   "source": [
    "# AAFormer: Adaptive Agent Transformer for Few-shot Segmentation\n",
    "\n",
    "**Paper authors:** Yuan Wang, Rui Sun, Zhe Zhang, Tianzhu Zhang\n",
    "\n",
    "**Reproduced by:** Yusuf Soydan, Bartu Akyürek\n",
    "\n",
    "This paper is about few-shot segmentation (FSS), aiming to segment objects in a given image and a set of support images with masks."
   ]
  },
  {
   "cell_type": "markdown",
   "metadata": {
    "id": "pXD3nzm8Ct1o",
    "tags": []
   },
   "source": [
    "## Prepare Workspace\n"
   ]
  },
  {
   "cell_type": "code",
   "execution_count": 1,
   "metadata": {
    "colab": {
     "base_uri": "https://localhost:8080/"
    },
    "executionInfo": {
     "elapsed": 39425,
     "status": "ok",
     "timestamp": 1686906465014,
     "user": {
      "displayName": "YUSUF SOYDAN",
      "userId": "00202688238108159918"
     },
     "user_tz": -180
    },
    "id": "JFk1LpSfzcBy",
    "outputId": "927b29bb-ac68-49aa-d38b-0e6e698bf42d",
    "tags": []
   },
   "outputs": [
    {
     "name": "stdout",
     "output_type": "stream",
     "text": [
      "Requirement already satisfied: POT in c:\\users\\bartu\\anaconda3\\lib\\site-packages (0.9.0)\n",
      "Requirement already satisfied: numpy>=1.16 in c:\\users\\bartu\\anaconda3\\lib\\site-packages (from POT) (1.23.5)\n",
      "Requirement already satisfied: scipy>=1.0 in c:\\users\\bartu\\anaconda3\\lib\\site-packages (from POT) (1.10.0)\n",
      "Requirement already satisfied: tqdm in c:\\users\\bartu\\anaconda3\\lib\\site-packages (4.64.1)\n",
      "Requirement already satisfied: colorama in c:\\users\\bartu\\anaconda3\\lib\\site-packages (from tqdm) (0.4.6)\n",
      "Requirement already satisfied: torchinfo in c:\\users\\bartu\\anaconda3\\lib\\site-packages (1.8.0)\n",
      "Requirement already satisfied: matplotlib in c:\\users\\bartu\\anaconda3\\lib\\site-packages (3.7.0)\n",
      "Requirement already satisfied: fonttools>=4.22.0 in c:\\users\\bartu\\anaconda3\\lib\\site-packages (from matplotlib) (4.25.0)\n",
      "Requirement already satisfied: pyparsing>=2.3.1 in c:\\users\\bartu\\anaconda3\\lib\\site-packages (from matplotlib) (3.0.9)\n",
      "Requirement already satisfied: numpy>=1.20 in c:\\users\\bartu\\anaconda3\\lib\\site-packages (from matplotlib) (1.23.5)\n",
      "Requirement already satisfied: pillow>=6.2.0 in c:\\users\\bartu\\anaconda3\\lib\\site-packages (from matplotlib) (9.4.0)\n",
      "Requirement already satisfied: kiwisolver>=1.0.1 in c:\\users\\bartu\\anaconda3\\lib\\site-packages (from matplotlib) (1.4.4)\n",
      "Requirement already satisfied: contourpy>=1.0.1 in c:\\users\\bartu\\anaconda3\\lib\\site-packages (from matplotlib) (1.0.5)\n",
      "Requirement already satisfied: python-dateutil>=2.7 in c:\\users\\bartu\\anaconda3\\lib\\site-packages (from matplotlib) (2.8.2)\n",
      "Requirement already satisfied: packaging>=20.0 in c:\\users\\bartu\\anaconda3\\lib\\site-packages (from matplotlib) (22.0)\n",
      "Requirement already satisfied: cycler>=0.10 in c:\\users\\bartu\\anaconda3\\lib\\site-packages (from matplotlib) (0.11.0)\n",
      "Requirement already satisfied: six>=1.5 in c:\\users\\bartu\\anaconda3\\lib\\site-packages (from python-dateutil>=2.7->matplotlib) (1.16.0)\n"
     ]
    }
   ],
   "source": [
    "!pip install POT\n",
    "!pip install tqdm\n",
    "!pip install torchinfo\n",
    "!pip install matplotlib"
   ]
  },
  {
   "cell_type": "code",
   "execution_count": 2,
   "metadata": {
    "executionInfo": {
     "elapsed": 2146,
     "status": "ok",
     "timestamp": 1686906467151,
     "user": {
      "displayName": "YUSUF SOYDAN",
      "userId": "00202688238108159918"
     },
     "user_tz": -180
    },
    "id": "k-aLaBEHCrCG",
    "tags": []
   },
   "outputs": [],
   "source": [
    "# General Dependencies\n",
    "\n",
    "import os\n",
    "import math\n",
    "import numpy as np\n",
    "\n",
    "import torch\n",
    "import torch.nn as nn\n",
    "import torch.optim as optim\n",
    "from torchinfo import summary\n",
    "from tqdm import tqdm"
   ]
  },
  {
   "cell_type": "code",
   "execution_count": 3,
   "metadata": {
    "colab": {
     "base_uri": "https://localhost:8080/"
    },
    "executionInfo": {
     "elapsed": 2083,
     "status": "ok",
     "timestamp": 1686906469231,
     "user": {
      "displayName": "YUSUF SOYDAN",
      "userId": "00202688238108159918"
     },
     "user_tz": -180
    },
    "id": "EeduFwG_CuOC",
    "outputId": "657914d4-7fc0-4e62-a912-27e6978cde41",
    "tags": []
   },
   "outputs": [],
   "source": [
    "\"\"\"\n",
    "Run from Colab or local\n",
    "\"\"\"\n",
    "\n",
    "try:\n",
    "    from google.colab import drive\n",
    "    drive.mount('/content/gdrive')\n",
    "    ROOT_PATH = \"/content/gdrive/MyDrive/AAFormer\"\n",
    "    DATA_PATH = os.path.join(ROOT_PATH, \"Datasets\")\n",
    "\n",
    "    %cd ./gdrive/MyDrive/AAFormer\n",
    "    !matplotlib inline\n",
    "\n",
    "except:\n",
    "    ROOT_PATH = os.curdir\n",
    "    DATA_PATH = \"../Datasets\"\n",
    "    # Note: If you are running this notebook on your local, please put the Datasets folder outside of current directory"
   ]
  },
  {
   "cell_type": "code",
   "execution_count": 4,
   "metadata": {
    "executionInfo": {
     "elapsed": 303,
     "status": "ok",
     "timestamp": 1686906469531,
     "user": {
      "displayName": "YUSUF SOYDAN",
      "userId": "00202688238108159918"
     },
     "user_tz": -180
    },
    "id": "E7E03tmxKfrK",
    "tags": []
   },
   "outputs": [],
   "source": [
    "# Source dependencies\n",
    "from data.dataset import FSSDataset\n",
    "from model.aaformer import AAFormer\n",
    "\n",
    "from common.vis import Visualizer\n",
    "from common.plot import image_plot\n",
    "from common.dice_loss import DiceLoss\n",
    "from common.evaluation import Evaluator\n",
    "from common.dice_loss import BinaryDiceLoss\n"
   ]
  },
  {
   "cell_type": "code",
   "execution_count": 5,
   "metadata": {
    "executionInfo": {
     "elapsed": 11,
     "status": "ok",
     "timestamp": 1686906469531,
     "user": {
      "displayName": "YUSUF SOYDAN",
      "userId": "00202688238108159918"
     },
     "user_tz": -180
    },
    "id": "Q4eek7rCzcB4",
    "tags": []
   },
   "outputs": [],
   "source": [
    "# HYPERPARAMETERS\n",
    "# -----------------------------------------------------------------\n",
    "# Note: the parameters with * comment are NOT provided by the paper\n",
    "# TODO: make hyperparameters UPPER_CASE\n",
    "image_resolution = 128\n",
    "reduce_dim = 256\n",
    "c = 328             #   Hidden dimensions\n",
    "hw = 256            # * Dimensionality of Feature maps (depends on ResNet choice)\n",
    "N = 16              # * Number of layers in Encoder/Decoder\n",
    "heads = 8           # * Number of attention heads\n",
    "num_tokens = 14     #   Number of Agent Tokens (see p.13, \"Hyperparameter Evaluations\")\n",
    "sinkhorn_reg = 0.05 #   Regularization term of Optimal Transport, (see supplementary)\n",
    "max_iter_ot = 10    #   Maximum iterations of Optimal Transport algorithm, (see supplementary)\n",
    "shot = 3\n",
    "\n",
    "batch_size = 4    # According to paper: 4\n",
    "adam_lr = 1e-4    # According to paper: 0.0001\n",
    "adam_decay = 1e-2 # According to paper: 0.01\n",
    "num_epoch = 20    # According to paper: 400\n",
    "\n",
    "# Additional parameters to control the flow\n",
    "# ----------------------------------------------------------------\n",
    "bypass_ot = False                         # To turn off OT module if it causes any problem (e.g. RAM failure)\n",
    "use_dice_loss = False                     # False means use CrossEntropy loss\n",
    "cuda = torch.cuda.is_available()          #\n",
    "device = 'cuda' if cuda else 'cpu'        #\n",
    "checkpoint = 100                          # Save the model every {checkpoint} iteration"
   ]
  },
  {
   "cell_type": "markdown",
   "metadata": {
    "id": "vw8PulDqFF0Z",
    "tags": []
   },
   "source": [
    "## Prepare PASCAL-$5^i$ Dataset"
   ]
  },
  {
   "cell_type": "code",
   "execution_count": 6,
   "metadata": {
    "executionInfo": {
     "elapsed": 9,
     "status": "ok",
     "timestamp": 1686906469532,
     "user": {
      "displayName": "YUSUF SOYDAN",
      "userId": "00202688238108159918"
     },
     "user_tz": -180
    },
    "id": "SMLSQDPuEG2g",
    "tags": []
   },
   "outputs": [],
   "source": [
    "# STEP 1: Download PASCAL VOC2012 devkit (train/val data): (uncomment lines below)\n",
    "# ------------------------------------------------------------------------------\n",
    "#!wget http://host.robots.ox.ac.uk/pascal/VOC/voc2012/VOCtrainval_11-May-2012.tar\n",
    "#!tar -xvf 'VOCtrainval_11-May-2012.tar' -C ./Datasets/\n",
    "\n",
    "# (or instead of wget, use directly the link to download)\n",
    "# STEP 2: Place \"VOC2012\" folder from downloaded \"VOCdevkit\" folder under a \"Datasets\" folder.\n",
    "# ------------------------------------------------------------------------------\n",
    "#!mv Datasets/VOCdevkit/VOC2012 Datasets/VOC2012\n",
    "\n",
    "# STEP 3: Download extended annotations from here\n",
    "#!wget https://drive.google.com/file/d/10zxG2VExoEZUeyQl_uXga2OWHjGeZaf2/view\n",
    "\n",
    "# STEP 4: Extract Put the downloaded extension under \"Datasets/VOC2012/\"\n"
   ]
  },
  {
   "cell_type": "code",
   "execution_count": 7,
   "metadata": {
    "colab": {
     "base_uri": "https://localhost:8080/"
    },
    "executionInfo": {
     "elapsed": 8,
     "status": "ok",
     "timestamp": 1686906469532,
     "user": {
      "displayName": "YUSUF SOYDAN",
      "userId": "00202688238108159918"
     },
     "user_tz": -180
    },
    "id": "N_HwSM49MOSM",
    "outputId": "a16d0fdb-dfa0-484f-9288-25d0c857a21d",
    "tags": []
   },
   "outputs": [
    {
     "name": "stdout",
     "output_type": "stream",
     "text": [
      "Total (trn) images are : 11394\n",
      "Total (val) images are : 346\n"
     ]
    }
   ],
   "source": [
    "# Dataset initialization\n",
    "# TODO: does paper mention about image size? TODO: yes, 473\n",
    "# TODO: they also do data aug...\n",
    "# TODO: add disclaimer to dataset files https://github.com/juhongm999/hsnet/blob/main/train.py\n",
    "FSSDataset.initialize(img_size=image_resolution, datapath=DATA_PATH, use_original_imgsize=False)\n",
    "dataloader_trn = FSSDataset.build_dataloader(benchmark='pascal', bsz=batch_size, shot=shot, nworker=1, fold=0, split='trn')\n",
    "dataloader_val = FSSDataset.build_dataloader(benchmark='pascal', bsz=batch_size, shot=shot, nworker=1, fold=0, split='val')"
   ]
  },
  {
   "cell_type": "markdown",
   "metadata": {
    "id": "o_RwWgaOzcB8",
    "tags": []
   },
   "source": [
    "## Initialize Models"
   ]
  },
  {
   "cell_type": "code",
   "execution_count": 8,
   "metadata": {
    "executionInfo": {
     "elapsed": 12682,
     "status": "ok",
     "timestamp": 1686906482208,
     "user": {
      "displayName": "YUSUF SOYDAN",
      "userId": "00202688238108159918"
     },
     "user_tz": -180
    },
    "id": "ZFOLGDYNgPbP",
    "tags": []
   },
   "outputs": [],
   "source": [
    "\n",
    "\n",
    "model = AAFormer(cuda = cuda,\n",
    "                 c = c,\n",
    "                 hw = hw,\n",
    "                 N = N,\n",
    "                 heads = heads,\n",
    "                 num_tokens = num_tokens,\n",
    "                 im_res=image_resolution,\n",
    "                 reduce_dim=reduce_dim,\n",
    "                 bypass_ot=bypass_ot,\n",
    "                 sinkhorn_reg=sinkhorn_reg,\n",
    "                 max_iter_ot=max_iter_ot)"
   ]
  },
  {
   "cell_type": "markdown",
   "metadata": {
    "id": "KEuUBpqazcB-"
   },
   "source": [
    "## Training Loop"
   ]
  },
  {
   "cell_type": "code",
   "execution_count": 9,
   "metadata": {
    "colab": {
     "base_uri": "https://localhost:8080/",
     "height": 1000
    },
    "executionInfo": {
     "elapsed": 23022,
     "status": "error",
     "timestamp": 1686906506099,
     "user": {
      "displayName": "YUSUF SOYDAN",
      "userId": "00202688238108159918"
     },
     "user_tz": -180
    },
    "id": "llxkuWjQzcB-",
    "outputId": "d3875f58-3ad3-4fdb-c531-f0a2023f7e50",
    "scrolled": true,
    "tags": []
   },
   "outputs": [
    {
     "name": "stderr",
     "output_type": "stream",
     "text": [
      "0it [00:04, ?it/s]\n"
     ]
    },
    {
     "ename": "AttributeError",
     "evalue": "'FeatureExtractor' object has no attribute 'dtype'",
     "output_type": "error",
     "traceback": [
      "\u001b[1;31m---------------------------------------------------------------------------\u001b[0m",
      "\u001b[1;31mAttributeError\u001b[0m                            Traceback (most recent call last)",
      "Cell \u001b[1;32mIn[9], line 31\u001b[0m\n\u001b[0;32m     27\u001b[0m supp_masks \u001b[38;5;241m=\u001b[39m batch[\u001b[38;5;124m'\u001b[39m\u001b[38;5;124msupport_masks\u001b[39m\u001b[38;5;124m'\u001b[39m]\u001b[38;5;241m.\u001b[39mto(device)\n\u001b[0;32m     29\u001b[0m \u001b[38;5;66;03m# STEP 1: Get predicted mask\u001b[39;00m\n\u001b[0;32m     30\u001b[0m \u001b[38;5;66;03m#try:\u001b[39;00m\n\u001b[1;32m---> 31\u001b[0m preds \u001b[38;5;241m=\u001b[39m \u001b[43mmodel\u001b[49m\u001b[43m(\u001b[49m\u001b[43mquery_img\u001b[49m\u001b[43m,\u001b[49m\u001b[43m \u001b[49m\u001b[43msupp_imgs\u001b[49m\u001b[43m,\u001b[49m\u001b[43m \u001b[49m\u001b[43msupp_masks\u001b[49m\u001b[43m,\u001b[49m\u001b[43m \u001b[49m\u001b[43mnormalize\u001b[49m\u001b[38;5;241;43m=\u001b[39;49m\u001b[43muse_dice_loss\u001b[49m\u001b[43m)\u001b[49m \u001b[38;5;66;03m# TODO: make normalize false if torch.CrossEntropy is used\u001b[39;00m\n\u001b[0;32m     32\u001b[0m \u001b[38;5;66;03m#except:\u001b[39;00m\n\u001b[0;32m     33\u001b[0m \u001b[38;5;66;03m#    print(\">> Unexpected error occured, skipping this batch...\")\u001b[39;00m\n\u001b[0;32m     34\u001b[0m \u001b[38;5;66;03m#    continue\u001b[39;00m\n\u001b[1;32m   (...)\u001b[0m\n\u001b[0;32m     39\u001b[0m \u001b[38;5;66;03m# Assumption: we assume C = 1, the only class is mask, i.e. a pixels is either from the\u001b[39;00m\n\u001b[0;32m     40\u001b[0m \u001b[38;5;66;03m# mask class or not. Pixels belonging to mask class makes up the segmentation result.\u001b[39;00m\n\u001b[0;32m     41\u001b[0m \u001b[38;5;28;01mif\u001b[39;00m use_dice_loss:\n",
      "File \u001b[1;32m~\\anaconda3\\lib\\site-packages\\torch\\nn\\modules\\module.py:1501\u001b[0m, in \u001b[0;36mModule._call_impl\u001b[1;34m(self, *args, **kwargs)\u001b[0m\n\u001b[0;32m   1496\u001b[0m \u001b[38;5;66;03m# If we don't have any hooks, we want to skip the rest of the logic in\u001b[39;00m\n\u001b[0;32m   1497\u001b[0m \u001b[38;5;66;03m# this function, and just call forward.\u001b[39;00m\n\u001b[0;32m   1498\u001b[0m \u001b[38;5;28;01mif\u001b[39;00m \u001b[38;5;129;01mnot\u001b[39;00m (\u001b[38;5;28mself\u001b[39m\u001b[38;5;241m.\u001b[39m_backward_hooks \u001b[38;5;129;01mor\u001b[39;00m \u001b[38;5;28mself\u001b[39m\u001b[38;5;241m.\u001b[39m_backward_pre_hooks \u001b[38;5;129;01mor\u001b[39;00m \u001b[38;5;28mself\u001b[39m\u001b[38;5;241m.\u001b[39m_forward_hooks \u001b[38;5;129;01mor\u001b[39;00m \u001b[38;5;28mself\u001b[39m\u001b[38;5;241m.\u001b[39m_forward_pre_hooks\n\u001b[0;32m   1499\u001b[0m         \u001b[38;5;129;01mor\u001b[39;00m _global_backward_pre_hooks \u001b[38;5;129;01mor\u001b[39;00m _global_backward_hooks\n\u001b[0;32m   1500\u001b[0m         \u001b[38;5;129;01mor\u001b[39;00m _global_forward_hooks \u001b[38;5;129;01mor\u001b[39;00m _global_forward_pre_hooks):\n\u001b[1;32m-> 1501\u001b[0m     \u001b[38;5;28;01mreturn\u001b[39;00m forward_call(\u001b[38;5;241m*\u001b[39margs, \u001b[38;5;241m*\u001b[39m\u001b[38;5;241m*\u001b[39mkwargs)\n\u001b[0;32m   1502\u001b[0m \u001b[38;5;66;03m# Do not call functions when jit is used\u001b[39;00m\n\u001b[0;32m   1503\u001b[0m full_backward_hooks, non_full_backward_hooks \u001b[38;5;241m=\u001b[39m [], []\n",
      "File \u001b[1;32m~\\Documents\\GitHub\\AAFormer\\model\\aaformer.py:67\u001b[0m, in \u001b[0;36mAAFormer.forward\u001b[1;34m(self, query_img, supp_imgs, supp_masks, normalize)\u001b[0m\n\u001b[0;32m     59\u001b[0m \u001b[38;5;28;01mdef\u001b[39;00m \u001b[38;5;21mforward\u001b[39m(\u001b[38;5;28mself\u001b[39m, query_img, supp_imgs, supp_masks, normalize\u001b[38;5;241m=\u001b[39m\u001b[38;5;28;01mTrue\u001b[39;00m):\n\u001b[0;32m     60\u001b[0m \n\u001b[0;32m     61\u001b[0m     \u001b[38;5;66;03m# STEP 1: Extract Features from the backbone model (ResNet)\u001b[39;00m\n\u001b[1;32m   (...)\u001b[0m\n\u001b[0;32m     65\u001b[0m     \u001b[38;5;66;03m# F_S.shape = b, layer4.w, layer4.h, c\u001b[39;00m\n\u001b[0;32m     66\u001b[0m     \u001b[38;5;66;03m# s_mask_list = list(b, shot, image.w, image.h) -> [4, 1, 128, 128]\u001b[39;00m\n\u001b[1;32m---> 67\u001b[0m     F_Q, F_S, s_mask_list \u001b[38;5;241m=\u001b[39m \u001b[38;5;28;43mself\u001b[39;49m\u001b[38;5;241;43m.\u001b[39;49m\u001b[43mfeature_extractor\u001b[49m\u001b[43m(\u001b[49m\u001b[43mquery_img\u001b[49m\u001b[43m,\u001b[49m\u001b[43m \u001b[49m\u001b[43msupp_imgs\u001b[49m\u001b[43m,\u001b[49m\u001b[43m \u001b[49m\u001b[43msupp_masks\u001b[49m\u001b[43m)\u001b[49m\n\u001b[0;32m     68\u001b[0m     \u001b[38;5;66;03m#S_mask = torch.stack(s_mask_list, dim=1)  \u001b[39;00m\n\u001b[0;32m     69\u001b[0m     S_mask_shots \u001b[38;5;241m=\u001b[39m torch\u001b[38;5;241m.\u001b[39mcat(s_mask_list, dim\u001b[38;5;241m=\u001b[39m\u001b[38;5;241m1\u001b[39m) \u001b[38;5;66;03m# stack s_mask_list to a tensor -> b, shot, image.w, image.h -> 4, shot, 128, 128\u001b[39;00m\n",
      "File \u001b[1;32m~\\anaconda3\\lib\\site-packages\\torch\\nn\\modules\\module.py:1501\u001b[0m, in \u001b[0;36mModule._call_impl\u001b[1;34m(self, *args, **kwargs)\u001b[0m\n\u001b[0;32m   1496\u001b[0m \u001b[38;5;66;03m# If we don't have any hooks, we want to skip the rest of the logic in\u001b[39;00m\n\u001b[0;32m   1497\u001b[0m \u001b[38;5;66;03m# this function, and just call forward.\u001b[39;00m\n\u001b[0;32m   1498\u001b[0m \u001b[38;5;28;01mif\u001b[39;00m \u001b[38;5;129;01mnot\u001b[39;00m (\u001b[38;5;28mself\u001b[39m\u001b[38;5;241m.\u001b[39m_backward_hooks \u001b[38;5;129;01mor\u001b[39;00m \u001b[38;5;28mself\u001b[39m\u001b[38;5;241m.\u001b[39m_backward_pre_hooks \u001b[38;5;129;01mor\u001b[39;00m \u001b[38;5;28mself\u001b[39m\u001b[38;5;241m.\u001b[39m_forward_hooks \u001b[38;5;129;01mor\u001b[39;00m \u001b[38;5;28mself\u001b[39m\u001b[38;5;241m.\u001b[39m_forward_pre_hooks\n\u001b[0;32m   1499\u001b[0m         \u001b[38;5;129;01mor\u001b[39;00m _global_backward_pre_hooks \u001b[38;5;129;01mor\u001b[39;00m _global_backward_hooks\n\u001b[0;32m   1500\u001b[0m         \u001b[38;5;129;01mor\u001b[39;00m _global_forward_hooks \u001b[38;5;129;01mor\u001b[39;00m _global_forward_pre_hooks):\n\u001b[1;32m-> 1501\u001b[0m     \u001b[38;5;28;01mreturn\u001b[39;00m forward_call(\u001b[38;5;241m*\u001b[39margs, \u001b[38;5;241m*\u001b[39m\u001b[38;5;241m*\u001b[39mkwargs)\n\u001b[0;32m   1502\u001b[0m \u001b[38;5;66;03m# Do not call functions when jit is used\u001b[39;00m\n\u001b[0;32m   1503\u001b[0m full_backward_hooks, non_full_backward_hooks \u001b[38;5;241m=\u001b[39m [], []\n",
      "File \u001b[1;32m~\\Documents\\GitHub\\AAFormer\\model\\featureextractor.py:46\u001b[0m, in \u001b[0;36mFeatureExtractor.forward\u001b[1;34m(self, x, x_supp, mask)\u001b[0m\n\u001b[0;32m     42\u001b[0m prior_mask \u001b[38;5;241m=\u001b[39m \u001b[38;5;28mself\u001b[39m\u001b[38;5;241m.\u001b[39mprior_generation(s_high_feat_list, s_mask_list, q_high_feat, (q_mid_feat\u001b[38;5;241m.\u001b[39mshape[\u001b[38;5;241m-\u001b[39m\u001b[38;5;241m1\u001b[39m],q_mid_feat\u001b[38;5;241m.\u001b[39mshape[\u001b[38;5;241m-\u001b[39m\u001b[38;5;241m2\u001b[39m]))\n\u001b[0;32m     44\u001b[0m masked_ave_pool_list \u001b[38;5;241m=\u001b[39m \u001b[38;5;28mself\u001b[39m\u001b[38;5;241m.\u001b[39mmasked_average_pooling(s_mid_feat_list, s_mask_list)\n\u001b[1;32m---> 46\u001b[0m temp_supp \u001b[38;5;241m=\u001b[39m torch\u001b[38;5;241m.\u001b[39mcat([torch\u001b[38;5;241m.\u001b[39mcat([torch\u001b[38;5;241m.\u001b[39mcat(s_mid_feat_list, \u001b[38;5;241m1\u001b[39m), torch\u001b[38;5;241m.\u001b[39mcat(masked_ave_pool_list, \u001b[38;5;241m1\u001b[39m)],\u001b[38;5;241m1\u001b[39m), prior_mask],\u001b[38;5;241m1\u001b[39m)\u001b[38;5;241m.\u001b[39mto(\u001b[38;5;28;43mself\u001b[39;49m\u001b[38;5;241;43m.\u001b[39;49m\u001b[43mdtype\u001b[49m)\n\u001b[0;32m     47\u001b[0m supp_down \u001b[38;5;241m=\u001b[39m nn\u001b[38;5;241m.\u001b[39mSequential(\n\u001b[0;32m     48\u001b[0m     nn\u001b[38;5;241m.\u001b[39mConv2d(temp_supp\u001b[38;5;241m.\u001b[39mshape[\u001b[38;5;241m1\u001b[39m], \u001b[38;5;28mself\u001b[39m\u001b[38;5;241m.\u001b[39mc, kernel_size\u001b[38;5;241m=\u001b[39m\u001b[38;5;241m1\u001b[39m, padding\u001b[38;5;241m=\u001b[39m\u001b[38;5;241m0\u001b[39m, bias\u001b[38;5;241m=\u001b[39m\u001b[38;5;28;01mFalse\u001b[39;00m),\n\u001b[0;32m     49\u001b[0m     nn\u001b[38;5;241m.\u001b[39mReLU(inplace\u001b[38;5;241m=\u001b[39m\u001b[38;5;28;01mTrue\u001b[39;00m),\n\u001b[0;32m     50\u001b[0m     nn\u001b[38;5;241m.\u001b[39mDropout2d(p\u001b[38;5;241m=\u001b[39m\u001b[38;5;241m0.5\u001b[39m)   \n\u001b[0;32m     51\u001b[0m )\n\u001b[0;32m     53\u001b[0m temp_query \u001b[38;5;241m=\u001b[39m torch\u001b[38;5;241m.\u001b[39mcat([q_mid_feat, torch\u001b[38;5;241m.\u001b[39mcat(masked_ave_pool_list, \u001b[38;5;241m1\u001b[39m)],\u001b[38;5;241m1\u001b[39m)\u001b[38;5;241m.\u001b[39mto(\u001b[38;5;28mself\u001b[39m\u001b[38;5;241m.\u001b[39mdtype)\n",
      "File \u001b[1;32m~\\anaconda3\\lib\\site-packages\\torch\\nn\\modules\\module.py:1614\u001b[0m, in \u001b[0;36mModule.__getattr__\u001b[1;34m(self, name)\u001b[0m\n\u001b[0;32m   1612\u001b[0m     \u001b[38;5;28;01mif\u001b[39;00m name \u001b[38;5;129;01min\u001b[39;00m modules:\n\u001b[0;32m   1613\u001b[0m         \u001b[38;5;28;01mreturn\u001b[39;00m modules[name]\n\u001b[1;32m-> 1614\u001b[0m \u001b[38;5;28;01mraise\u001b[39;00m \u001b[38;5;167;01mAttributeError\u001b[39;00m(\u001b[38;5;124m\"\u001b[39m\u001b[38;5;124m'\u001b[39m\u001b[38;5;132;01m{}\u001b[39;00m\u001b[38;5;124m'\u001b[39m\u001b[38;5;124m object has no attribute \u001b[39m\u001b[38;5;124m'\u001b[39m\u001b[38;5;132;01m{}\u001b[39;00m\u001b[38;5;124m'\u001b[39m\u001b[38;5;124m\"\u001b[39m\u001b[38;5;241m.\u001b[39mformat(\n\u001b[0;32m   1615\u001b[0m     \u001b[38;5;28mtype\u001b[39m(\u001b[38;5;28mself\u001b[39m)\u001b[38;5;241m.\u001b[39m\u001b[38;5;18m__name__\u001b[39m, name))\n",
      "\u001b[1;31mAttributeError\u001b[0m: 'FeatureExtractor' object has no attribute 'dtype'"
     ]
    }
   ],
   "source": [
    "# See Supplementary Material: \"Dice loss is adopted to train our model\" and AdamW optimizer is used for transformer blocks\n",
    "# Although BCE loss is not mentioned in the paper, many papers working on segmentation uses BCE to compare the binary masks\n",
    "# Dice loss function we used returns a very low value (about 0.8), which may result in tiny gradients.\n",
    "dice_loss = DiceLoss() #BinaryDiceLoss()\n",
    "bce_loss = nn.CrossEntropyLoss()\n",
    "\n",
    "optimizer = torch.optim.AdamW(model.parameters(), lr=adam_lr, weight_decay=adam_decay)\n",
    "# TODO: how to seperate optimizers for models and rest?\n",
    "\n",
    "#####\n",
    "use_dice_loss = True\n",
    "####\n",
    "\n",
    "step = 0\n",
    "train_losses = []\n",
    "val_losses = []\n",
    "for epoch in range(num_epoch):\n",
    "\n",
    "    model.train()\n",
    "    train_loss = 0.0\n",
    "    for idx, batch in tqdm(enumerate(dataloader_trn)):\n",
    "\n",
    "        # STEP 0: Get query image and support images with corresponding masks\n",
    "        query_img = batch['query_img'].to(device)\n",
    "        query_mask = batch['query_mask'].to(device)\n",
    "        supp_imgs = batch['support_imgs'].to(device)\n",
    "        supp_masks = batch['support_masks'].to(device)\n",
    "\n",
    "        # STEP 1: Get predicted mask\n",
    "        #try:\n",
    "        preds = model(query_img, supp_imgs, supp_masks, normalize=use_dice_loss) \n",
    "        #except:\n",
    "        #    print(\">> Unexpected error occured, skipping this batch...\")\n",
    "        #    continue\n",
    "\n",
    "        # STEP 2: Compute Dice loss (Note: Dice loss is from rage [0,1])\n",
    "        # Dice loss and Cross Entropy loss expects [N, C, *] shape,\n",
    "        # where N is the batch size and C is the number of classes\n",
    "        # Assumption: we assume C = 1, the only class is mask, i.e. a pixels is either from the\n",
    "        # mask class or not. Pixels belonging to mask class makes up the segmentation result.\n",
    "        if use_dice_loss:\n",
    "            loss = dice_loss(preds, query_mask.unsqueeze(1)) # Make query_mask shape (batchsize,*) --> (batchsize, 1, *)\n",
    "        else:\n",
    "            loss = bce_loss(preds, query_mask.unsqueeze(1))  # Make query_mask shape (batchsize,*) --> (batchsize, 1, *)\n",
    "\n",
    "        train_loss += loss.item()\n",
    "\n",
    "        # STEP 3: Update optimizer\n",
    "        step += 1\n",
    "        loss.backward()\n",
    "        optimizer.step()\n",
    "\n",
    "        #### Ploting preds with inputs ####\n",
    "        image_plot(query_img, supp_imgs, supp_masks, preds)\n",
    "        print(f\"iteration {idx+1} train_loss = {loss.item()}\")\n",
    "        if(idx+1 % 10 == 0):\n",
    "            print(f\"Step:{step} Loss:{loss.item()}\")\n",
    "            #image_plot(query_img, supp_imgs, supp_masks, preds)\n",
    "\n",
    "\n",
    "        # TODO: save model file at every X iteration\n",
    "        if(step % checkpoint == 0):\n",
    "            pass\n",
    "\n",
    "    # Append the average loss\n",
    "    train_losses.append(train_loss/len(dataloader_trn))\n",
    "    print(\"Epoch \", epoch, \" Loss: \", train_loss/len(dataloader_trn))\n",
    "\n",
    "    # TODO: validation loss? (with torch.no_grad():?)\n"
   ]
  },
  {
   "cell_type": "code",
   "execution_count": null,
   "metadata": {
    "tags": []
   },
   "outputs": [],
   "source": [
    "# TODO plot train/val loss"
   ]
  },
  {
   "cell_type": "code",
   "execution_count": null,
   "metadata": {
    "tags": []
   },
   "outputs": [],
   "source": [
    "image_plot(query_img, supp_imgs, supp_masks, preds)"
   ]
  },
  {
   "cell_type": "code",
   "execution_count": null,
   "metadata": {
    "tags": []
   },
   "outputs": [],
   "source": [
    "preds.shape"
   ]
  },
  {
   "cell_type": "code",
   "execution_count": null,
   "metadata": {
    "tags": []
   },
   "outputs": [],
   "source": [
    "fig = plt.figure()\n",
    "i = 0\n",
    "for q in range(query_img.shape[0]):\n",
    "    plt.subplot(query_img.shape[1],query_img.shape[0],i+1)\n",
    "    plt.imshow(transform_img(query_img[q,:,:,:]))\n",
    "    plt.suptitle(\"query_img\", y=0.7)\n",
    "    plt.axis('off')\n",
    "    i += 1\n",
    "plt.show()\n",
    "\n",
    "i = 0\n",
    "for s in range(supp_imgs.shape[1]):\n",
    "    for supp_img in supp_imgs[:,s,:,:]:\n",
    "        plt.subplot(supp_imgs.shape[1],supp_imgs.shape[0],i+1)\n",
    "        plt.imshow(transform_img(supp_img))\n",
    "        plt.suptitle(\"supp_img\", y=0.7)\n",
    "        plt.axis('off')\n",
    "        i += 1\n",
    "plt.show()\n",
    "\n",
    "i = 0\n",
    "for s in range(supp_masks.shape[1]):\n",
    "    for supp_mask in supp_masks[:,s,:,:]:\n",
    "        plt.subplot(supp_masks.shape[1],supp_masks.shape[0],i+1)\n",
    "        plt.imshow(transform_mask(supp_mask))\n",
    "        plt.suptitle(\"supp_masks\", y=0.7)\n",
    "        plt.axis('off')\n",
    "        i += 1\n",
    "plt.show()"
   ]
  },
  {
   "cell_type": "markdown",
   "metadata": {
    "id": "SVGX4VW3HkTN"
   },
   "source": [
    "## Visualization Test"
   ]
  },
  {
   "cell_type": "code",
   "execution_count": null,
   "metadata": {
    "id": "nXPe83EmgIuM"
   },
   "outputs": [],
   "source": [
    "\"\"\" Code below visualizes prediction (to be used in testing) \"\"\"\n",
    "\n",
    "Visualizer.initialize(True)\n",
    "Evaluator.initialize()\n",
    "\n",
    "vis_step = 1\n",
    "\n",
    "for idx, batch in enumerate(dataloader_trn):\n",
    "\n",
    "        # STEP 0: Get query image and support images with corresponding masks\n",
    "        query_img = batch['query_img'].to(device)\n",
    "        supp_imgs = batch['support_imgs'].to(device)\n",
    "        supp_masks = batch['support_masks'].to(device)\n",
    "\n",
    "        # STEP 1: Get predicted mask\n",
    "        model.eval()\n",
    "        pred_mask = model(query_img, supp_imgs, supp_masks, normalize=use_dice_loss)\n",
    "        pred_mask = pred_mask.squeeze(1)\n",
    "\n",
    "        #print(batch['query_mask'].shape)\n",
    "        #print(pred_mask.shape)\n",
    "        assert pred_mask.size() == batch['query_mask'].size()\n",
    "\n",
    "\n",
    "        # 2. Evaluate prediction\n",
    "        area_inter, area_union = Evaluator.classify_prediction(pred_mask.clone(), batch)\n",
    "\n",
    "        #average_meter.update(area_inter, area_union, batch['class_id'], loss=None)\n",
    "        #average_meter.write_process(idx, len(dataloader), epoch=-1, write_batch_idx=1)\n",
    "\n",
    "        # Visualize predictions\n",
    "        if Visualizer.visualize:\n",
    "            Visualizer.visualize_prediction_batch(batch['support_imgs'], batch['support_masks'],\n",
    "                                                  batch['query_img'], batch['query_mask'],\n",
    "                                                  pred_mask, batch['class_id'], idx,\n",
    "                                                  area_inter[1].float() / area_union[1].float())\n",
    "\n",
    "        if idx+1 == vis_step:\n",
    "            break\n",
    "\n"
   ]
  },
  {
   "cell_type": "code",
   "execution_count": null,
   "metadata": {
    "id": "Yin3RkbIzcCB"
   },
   "outputs": [],
   "source": [
    "# TODO: declare numerical results"
   ]
  },
  {
   "cell_type": "code",
   "execution_count": null,
   "metadata": {
    "id": "km6MNOz_zcCC"
   },
   "outputs": [],
   "source": []
  }
 ],
 "metadata": {
  "colab": {
   "collapsed_sections": [
    "vw8PulDqFF0Z",
    "SVGX4VW3HkTN",
    "ZG66w6l1mTEe"
   ],
   "provenance": []
  },
  "kernelspec": {
   "display_name": "Python 3 (ipykernel)",
   "language": "python",
   "name": "python3"
  },
  "language_info": {
   "codemirror_mode": {
    "name": "ipython",
    "version": 3
   },
   "file_extension": ".py",
   "mimetype": "text/x-python",
   "name": "python",
   "nbconvert_exporter": "python",
   "pygments_lexer": "ipython3",
   "version": "3.10.9"
  },
  "toc-autonumbering": true
 },
 "nbformat": 4,
 "nbformat_minor": 4
}
