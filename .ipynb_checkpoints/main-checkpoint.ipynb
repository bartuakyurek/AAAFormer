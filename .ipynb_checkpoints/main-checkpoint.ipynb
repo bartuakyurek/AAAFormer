{
 "cells": [
  {
   "cell_type": "markdown",
   "metadata": {
    "id": "pXD3nzm8Ct1o"
   },
   "source": []
  },
  {
   "cell_type": "code",
   "execution_count": 1,
   "metadata": {
    "id": "k-aLaBEHCrCG"
   },
   "outputs": [],
   "source": [
    "# General Dependencies\n",
    "\n",
    "import os\n",
    "import math\n",
    "import numpy as np\n",
    "import torch\n"
   ]
  },
  {
   "cell_type": "code",
   "execution_count": 2,
   "metadata": {
    "colab": {
     "base_uri": "https://localhost:8080/"
    },
    "id": "EeduFwG_CuOC",
    "outputId": "e841e3ad-267b-4a49-a62d-d7d92d8815fa"
   },
   "outputs": [],
   "source": [
    "\"\"\"\n",
    "Run from Colab or local\n",
    "\"\"\"\n",
    "\n",
    "try:\n",
    "    from google.colab import drive\n",
    "    drive.mount('/content/gdrive')\n",
    "    ROOT_PATH = \"/content/gdrive/MyDrive/AAFormer\"\n",
    "    DATA_PATH = os.path.join(ROOT_PATH, \"Datasets\")\n",
    "    \n",
    "    %cd ./gdrive/MyDrive/AAFormer\n",
    "\n",
    "except:\n",
    "    ROOT_PATH = os.curdir\n",
    "    DATA_PATH = \"../Datasets\"\n",
    "\n",
    "\n"
   ]
  },
  {
   "cell_type": "code",
   "execution_count": 3,
   "metadata": {
    "id": "E7E03tmxKfrK"
   },
   "outputs": [],
   "source": [
    "# Source dependencies\n",
    "from data.dataset import FSSDataset\n",
    "from common.vis import Visualizer\n",
    "from common.evaluation import Evaluator"
   ]
  },
  {
   "cell_type": "markdown",
   "metadata": {
    "id": "vw8PulDqFF0Z"
   },
   "source": [
    "## Prepare PASCAL-$5^i$ Dataset"
   ]
  },
  {
   "cell_type": "code",
   "execution_count": 4,
   "metadata": {
    "id": "SMLSQDPuEG2g"
   },
   "outputs": [],
   "source": [
    "# STEP 1: Download PASCAL VOC2012 devkit (train/val data): (uncomment lines below)\n",
    "# ------------------------------------------------------------------------------\n",
    "#!wget http://host.robots.ox.ac.uk/pascal/VOC/voc2012/VOCtrainval_11-May-2012.tar\n",
    "#!tar -xvf 'VOCtrainval_11-May-2012.tar' -C ./Datasets/ \n",
    "\n",
    "# (or instead of wget, use directly the link to download)\n",
    "# STEP 2: Place \"VOC2012\" folder from downloaded \"VOCdevkit\" folder under a \"Datasets\" folder.\n",
    "# ------------------------------------------------------------------------------\n",
    "#!mv Datasets/VOCdevkit/VOC2012 Datasets/VOC2012\n",
    "\n",
    "# STEP 3: Download extended annotations from here\n",
    "#!wget https://drive.google.com/file/d/10zxG2VExoEZUeyQl_uXga2OWHjGeZaf2/view\n",
    "\n",
    "# STEP 4: Extract Put the downloaded extension under \"Datasets/VOC2012/\"\n"
   ]
  },
  {
   "cell_type": "code",
   "execution_count": 5,
   "metadata": {
    "colab": {
     "base_uri": "https://localhost:8080/"
    },
    "id": "N_HwSM49MOSM",
    "outputId": "bb442e9a-ad30-495a-deb7-46d97dad395f"
   },
   "outputs": [
    {
     "name": "stdout",
     "output_type": "stream",
     "text": [
      "Total (trn) images are : 11394\n",
      "Total (val) images are : 346\n"
     ]
    }
   ],
   "source": [
    "# Dataset initialization \n",
    "# TODO: does paper mention about image size? TODO: yes, 473\n",
    "# TODO: they also do data aug...\n",
    "# TODO: add disclaimer to dataset files https://github.com/juhongm999/hsnet/blob/main/train.py\n",
    "FSSDataset.initialize(img_size=128, datapath=DATA_PATH, use_original_imgsize=False)\n",
    "dataloader_trn = FSSDataset.build_dataloader(benchmark='pascal', bsz=4, nworker=1, fold=0, split='trn')\n",
    "dataloader_val = FSSDataset.build_dataloader(benchmark='pascal', bsz=4, nworker=1, fold=0, split='val')"
   ]
  },
  {
   "cell_type": "markdown",
   "metadata": {
    "id": "SVGX4VW3HkTN"
   },
   "source": [
    "## Visualization deneme"
   ]
  },
  {
   "cell_type": "code",
   "execution_count": 6,
   "metadata": {
    "id": "WvVXL82vHiF8"
   },
   "outputs": [],
   "source": [
    "Visualizer.initialize(True)\n",
    "Evaluator.initialize()"
   ]
  },
  {
   "cell_type": "code",
   "execution_count": 7,
   "metadata": {
    "id": "nXPe83EmgIuM"
   },
   "outputs": [
    {
     "data": {
      "text/plain": [
       "\" Code below visualizes prediction (to be used in testing)\\n\\nfor idx, batch in enumerate(dataloader_trn):\\n        # 1. Hypercorrelation Squeeze Networks forward pass\\n        #batch = utils.to_cuda(batch)\\n        #pred_mask = model.module.predict_mask_nshot(batch, nshot=nshot)\\n\\n        #assert pred_mask.size() == batch['query_mask'].size()\\n        pred_mask = batch['query_mask']\\n\\n        # 2. Evaluate prediction\\n        area_inter, area_union = Evaluator.classify_prediction(pred_mask.clone(), batch)\\n        \\n        #average_meter.update(area_inter, area_union, batch['class_id'], loss=None)\\n        #average_meter.write_process(idx, len(dataloader), epoch=-1, write_batch_idx=1)\\n\\n        # Visualize predictions\\n        if Visualizer.visualize:\\n            Visualizer.visualize_prediction_batch(batch['support_imgs'], batch['support_masks'],\\n                                                  batch['query_img'], batch['query_mask'],\\n                                                  pred_mask, batch['class_id'], idx,\\n                                                  area_inter[1].float() / area_union[1].float())\\n\\n        break   # TODO: delete this break to run visualization for full dataset\\n\""
      ]
     },
     "execution_count": 7,
     "metadata": {},
     "output_type": "execute_result"
    }
   ],
   "source": [
    "\"\"\" Code below visualizes prediction (to be used in testing)\n",
    "\n",
    "for idx, batch in enumerate(dataloader_trn):\n",
    "        # 1. Hypercorrelation Squeeze Networks forward pass\n",
    "        #batch = utils.to_cuda(batch)\n",
    "        #pred_mask = model.module.predict_mask_nshot(batch, nshot=nshot)\n",
    "\n",
    "        #assert pred_mask.size() == batch['query_mask'].size()\n",
    "        pred_mask = batch['query_mask']\n",
    "\n",
    "        # 2. Evaluate prediction\n",
    "        area_inter, area_union = Evaluator.classify_prediction(pred_mask.clone(), batch)\n",
    "        \n",
    "        #average_meter.update(area_inter, area_union, batch['class_id'], loss=None)\n",
    "        #average_meter.write_process(idx, len(dataloader), epoch=-1, write_batch_idx=1)\n",
    "\n",
    "        # Visualize predictions\n",
    "        if Visualizer.visualize:\n",
    "            Visualizer.visualize_prediction_batch(batch['support_imgs'], batch['support_masks'],\n",
    "                                                  batch['query_img'], batch['query_mask'],\n",
    "                                                  pred_mask, batch['class_id'], idx,\n",
    "                                                  area_inter[1].float() / area_union[1].float())\n",
    "\n",
    "        break   # TODO: delete this break to run visualization for full dataset\n",
    "\"\"\""
   ]
  },
  {
   "cell_type": "markdown",
   "metadata": {},
   "source": [
    "## Decoder Test"
   ]
  },
  {
   "cell_type": "code",
   "execution_count": 10,
   "metadata": {
    "colab": {
     "base_uri": "https://localhost:8080/"
    },
    "id": "ZFOLGDYNgPbP",
    "outputId": "9e2792dc-84f6-4b3b-f704-e393d13c7d7c"
   },
   "outputs": [],
   "source": [
    "from model.tokens import init_agent_tokens\n",
    "from model.featureextractor import FeatureExtractor\n",
    "from model.representationencoder import RepresentationEncoder\n",
    "\n",
    "# TODO: c is hyperparameter, gather these params at the beginning\n",
    "c = 2048\n",
    "hw = 256 \n",
    "N = 16\n",
    "heads = 8\n",
    "num_tokens = 15 # TODO: make it a hyperparameter\n",
    "\n",
    "feature_extractor = FeatureExtractor(layers=50, reduce_dim=hw, c=c)\n",
    "representation_encoder = RepresentationEncoder(c, hw, N, heads)\n",
    "agent_learning_decoder = AgentLearningDecoder(c, N)\n"
   ]
  },
  {
   "cell_type": "code",
   "execution_count": 12,
   "metadata": {},
   "outputs": [],
   "source": [
    "# Assumption\n",
    "# --------------------------------------------------------------------------\n",
    "# Authors do not specify if the attention mechanism of Agent Learning Decoder \n",
    "# is multi-head or not, so we assume it is not multi-head.\n",
    "# For Representation Encoder and Agent Matching Decoder, they mention the \n",
    "# equations are implemented with multi-head mechanism.\n",
    "# We implement the attention as if it is multi-head and setting num_heads=1\n",
    "# will make it a single head.\n",
    "\n",
    "import torch\n",
    "import torch.nn as nn\n",
    "\n",
    "# This attention mechanism is not the same with original self-attention.\n",
    "# Here we implement eqn.3 and eqn.4, i.e. \n",
    "# S = softmax(QK^T / sqrt(d_k) + M)\n",
    "# There will be another algorithm, Optimal Transport (eqn.5-6) before\n",
    "# we scale the attention with Value.\n",
    "class Attention_Eqn3(nn.Module):\n",
    "    def __init__(self, hidden_dims):\n",
    "        super().__init__()\n",
    "        \n",
    "        self.d_k = hidden_dims\n",
    "        self.W_a_Q = nn.Linear(hidden_dims, hidden_dims)\n",
    "        self.W_s_K = nn.Linear(hidden_dims, hidden_dims)\n",
    "    \n",
    "    \n",
    "    def forward(self, F_a, F_s, M):\n",
    "        \n",
    "        # F_a has shape (batchsize, num_tokens, c=d_k)\n",
    "        # F_s has shape (batchsize, h*w, c=d_k)\n",
    "        \n",
    "        Q_a = self.W_a_Q(F_a)  # Get Query, shape (batchsize, numtokens, c=d_k)\n",
    "        K_s = self.W_s_K(F_s)  # Get Key, shape (batchsize, hw, c=d_k)\n",
    "        \n",
    "        # Transposed Key has shape (batchsize, c=d_k, hw)\n",
    "        # This corresponds to K x hw dimensions of M in eqn.4, see page 8 first sentence\n",
    "        # Q_a's dimension is unsqueezed to get (batchsize, 1, numtokens, d_k)\n",
    "        # in order to use torch.matmul (see its documents for explanation)\n",
    "        # Such that the result QK has shape (batchsize, numtokens, hw)\n",
    "        QK = torch.matmul(Q_a.unsqueeze(1), K_s.transpose(1,2)) / math.sqrt(self.d_k)\n",
    "        \n",
    "        print(QK.shape)\n",
    "        #S = torch.nn.Softmax(QK + M)\n",
    "\n",
    "class AgentLearningDecoder(nn.Module):\n",
    "    \n",
    "    def __init__(self,  c, num_layers, num_heads=1):\n",
    "        super().__init__()\n",
    "        \n",
    "        self.d_k = c // num_heads\n",
    "        self.attn = Attention_Eqn3(self.d_k)\n",
    "    \n",
    "    \n",
    "    def forward(self, F_a, F_s, M_s):\n",
    "        \n",
    "        # Step 1: Masked Cross Attention between (F_a, F_s_hat)\n",
    "        # This part is the implementation of eqn.3 and eqn.4\n",
    "        # Return Part Mask S (see Fig.3 (a))\n",
    "        # --------------------------------------------------------\n",
    "        \n",
    "        # Flatten M_s  from shape (batchsize, 1, h, w)\n",
    "        # to shape (batchsize, 1, h*w)\n",
    "        M_s = torch.flatten(M_s, start_dim=2)\n",
    "        \n",
    "        # See page 8, first sentence, N is the duplication of M\n",
    "        # for each token of the agent tokens.\n",
    "        # N has shape (batchsize, numtokens, hw)\n",
    "        num_tokens = F_a.shape[1]\n",
    "        N = M_s.repeat(1,num_tokens,1) \n",
    "                \n",
    "        M = torch.where(N == 1, 0, float('-inf'))\n",
    "        # Debug: Check M has zeros in it\n",
    "        # print ((M == 0).nonzero(as_tuple=True)[0])\n",
    "        \n",
    "        # Get the \"masked attention weight matrix\"\n",
    "        S = self.attn(F_a, F_s, M)\n",
    "        #print(S.shape)\n",
    "        \n",
    "        # Step 2: TODO\n",
    "        # This part is the implementation of eqn.5 and eqn.6\n",
    "        # --------------------------------------------------------\n",
    "        # Step 3: TODO\n",
    "        # --------------------------------------------------------\n",
    "        # Step 4: TODO\n",
    "        # --------------------------------------------------------\n"
   ]
  },
  {
   "cell_type": "code",
   "execution_count": 13,
   "metadata": {},
   "outputs": [
    {
     "ename": "TypeError",
     "evalue": "sqrt(): argument 'input' (position 1) must be Tensor, not int",
     "output_type": "error",
     "traceback": [
      "\u001b[1;31m---------------------------------------------------------------------------\u001b[0m",
      "\u001b[1;31mTypeError\u001b[0m                                 Traceback (most recent call last)",
      "Cell \u001b[1;32mIn[13], line 34\u001b[0m\n\u001b[0;32m     29\u001b[0m tokens \u001b[38;5;241m=\u001b[39m init_agent_tokens(num_tokens, X, L, f_s) \u001b[38;5;66;03m# every token has [K,c] dim for every sample in a batch\u001b[39;00m\n\u001b[0;32m     32\u001b[0m \u001b[38;5;66;03m# STEP 3: Pass initial agent tokens through Agent Learning Decoder\u001b[39;00m\n\u001b[0;32m     33\u001b[0m \u001b[38;5;66;03m# and obtain agent tokens.\u001b[39;00m\n\u001b[1;32m---> 34\u001b[0m \u001b[43magent_learning_decoder\u001b[49m\u001b[43m(\u001b[49m\u001b[43mtokens\u001b[49m\u001b[43m,\u001b[49m\u001b[43m \u001b[49m\u001b[43mF_S_hat\u001b[49m\u001b[43m,\u001b[49m\u001b[43m \u001b[49m\u001b[43mM_s\u001b[49m\u001b[43m)\u001b[49m\n\u001b[0;32m     36\u001b[0m \u001b[38;5;66;03m# STEP 4: Pass agent tokens through Agent Matching Decoder\u001b[39;00m\n\u001b[0;32m     37\u001b[0m \u001b[38;5;28;01mbreak\u001b[39;00m\n",
      "File \u001b[1;32m~\\anaconda3\\lib\\site-packages\\torch\\nn\\modules\\module.py:1501\u001b[0m, in \u001b[0;36mModule._call_impl\u001b[1;34m(self, *args, **kwargs)\u001b[0m\n\u001b[0;32m   1496\u001b[0m \u001b[38;5;66;03m# If we don't have any hooks, we want to skip the rest of the logic in\u001b[39;00m\n\u001b[0;32m   1497\u001b[0m \u001b[38;5;66;03m# this function, and just call forward.\u001b[39;00m\n\u001b[0;32m   1498\u001b[0m \u001b[38;5;28;01mif\u001b[39;00m \u001b[38;5;129;01mnot\u001b[39;00m (\u001b[38;5;28mself\u001b[39m\u001b[38;5;241m.\u001b[39m_backward_hooks \u001b[38;5;129;01mor\u001b[39;00m \u001b[38;5;28mself\u001b[39m\u001b[38;5;241m.\u001b[39m_backward_pre_hooks \u001b[38;5;129;01mor\u001b[39;00m \u001b[38;5;28mself\u001b[39m\u001b[38;5;241m.\u001b[39m_forward_hooks \u001b[38;5;129;01mor\u001b[39;00m \u001b[38;5;28mself\u001b[39m\u001b[38;5;241m.\u001b[39m_forward_pre_hooks\n\u001b[0;32m   1499\u001b[0m         \u001b[38;5;129;01mor\u001b[39;00m _global_backward_pre_hooks \u001b[38;5;129;01mor\u001b[39;00m _global_backward_hooks\n\u001b[0;32m   1500\u001b[0m         \u001b[38;5;129;01mor\u001b[39;00m _global_forward_hooks \u001b[38;5;129;01mor\u001b[39;00m _global_forward_pre_hooks):\n\u001b[1;32m-> 1501\u001b[0m     \u001b[38;5;28;01mreturn\u001b[39;00m forward_call(\u001b[38;5;241m*\u001b[39margs, \u001b[38;5;241m*\u001b[39m\u001b[38;5;241m*\u001b[39mkwargs)\n\u001b[0;32m   1502\u001b[0m \u001b[38;5;66;03m# Do not call functions when jit is used\u001b[39;00m\n\u001b[0;32m   1503\u001b[0m full_backward_hooks, non_full_backward_hooks \u001b[38;5;241m=\u001b[39m [], []\n",
      "Cell \u001b[1;32mIn[9], line 76\u001b[0m, in \u001b[0;36mAgentLearningDecoder.forward\u001b[1;34m(self, F_a, F_s, M_s)\u001b[0m\n\u001b[0;32m     71\u001b[0m M \u001b[38;5;241m=\u001b[39m torch\u001b[38;5;241m.\u001b[39mwhere(N \u001b[38;5;241m==\u001b[39m \u001b[38;5;241m1\u001b[39m, \u001b[38;5;241m0\u001b[39m, \u001b[38;5;28mfloat\u001b[39m(\u001b[38;5;124m'\u001b[39m\u001b[38;5;124m-inf\u001b[39m\u001b[38;5;124m'\u001b[39m))\n\u001b[0;32m     72\u001b[0m \u001b[38;5;66;03m# Debug: Check M has zeros in it\u001b[39;00m\n\u001b[0;32m     73\u001b[0m \u001b[38;5;66;03m# print ((M == 0).nonzero(as_tuple=True)[0])\u001b[39;00m\n\u001b[0;32m     74\u001b[0m \n\u001b[0;32m     75\u001b[0m \u001b[38;5;66;03m# Get the \"masked attention weight matrix\"\u001b[39;00m\n\u001b[1;32m---> 76\u001b[0m S \u001b[38;5;241m=\u001b[39m \u001b[38;5;28;43mself\u001b[39;49m\u001b[38;5;241;43m.\u001b[39;49m\u001b[43mattn\u001b[49m\u001b[43m(\u001b[49m\u001b[43mF_a\u001b[49m\u001b[43m,\u001b[49m\u001b[43m \u001b[49m\u001b[43mF_s\u001b[49m\u001b[43m,\u001b[49m\u001b[43m \u001b[49m\u001b[43mM\u001b[49m\u001b[43m)\u001b[49m\n",
      "File \u001b[1;32m~\\anaconda3\\lib\\site-packages\\torch\\nn\\modules\\module.py:1501\u001b[0m, in \u001b[0;36mModule._call_impl\u001b[1;34m(self, *args, **kwargs)\u001b[0m\n\u001b[0;32m   1496\u001b[0m \u001b[38;5;66;03m# If we don't have any hooks, we want to skip the rest of the logic in\u001b[39;00m\n\u001b[0;32m   1497\u001b[0m \u001b[38;5;66;03m# this function, and just call forward.\u001b[39;00m\n\u001b[0;32m   1498\u001b[0m \u001b[38;5;28;01mif\u001b[39;00m \u001b[38;5;129;01mnot\u001b[39;00m (\u001b[38;5;28mself\u001b[39m\u001b[38;5;241m.\u001b[39m_backward_hooks \u001b[38;5;129;01mor\u001b[39;00m \u001b[38;5;28mself\u001b[39m\u001b[38;5;241m.\u001b[39m_backward_pre_hooks \u001b[38;5;129;01mor\u001b[39;00m \u001b[38;5;28mself\u001b[39m\u001b[38;5;241m.\u001b[39m_forward_hooks \u001b[38;5;129;01mor\u001b[39;00m \u001b[38;5;28mself\u001b[39m\u001b[38;5;241m.\u001b[39m_forward_pre_hooks\n\u001b[0;32m   1499\u001b[0m         \u001b[38;5;129;01mor\u001b[39;00m _global_backward_pre_hooks \u001b[38;5;129;01mor\u001b[39;00m _global_backward_hooks\n\u001b[0;32m   1500\u001b[0m         \u001b[38;5;129;01mor\u001b[39;00m _global_forward_hooks \u001b[38;5;129;01mor\u001b[39;00m _global_forward_pre_hooks):\n\u001b[1;32m-> 1501\u001b[0m     \u001b[38;5;28;01mreturn\u001b[39;00m forward_call(\u001b[38;5;241m*\u001b[39margs, \u001b[38;5;241m*\u001b[39m\u001b[38;5;241m*\u001b[39mkwargs)\n\u001b[0;32m   1502\u001b[0m \u001b[38;5;66;03m# Do not call functions when jit is used\u001b[39;00m\n\u001b[0;32m   1503\u001b[0m full_backward_hooks, non_full_backward_hooks \u001b[38;5;241m=\u001b[39m [], []\n",
      "Cell \u001b[1;32mIn[9], line 40\u001b[0m, in \u001b[0;36mAttention_Eqn3.forward\u001b[1;34m(self, F_a, F_s, M)\u001b[0m\n\u001b[0;32m     33\u001b[0m K_s \u001b[38;5;241m=\u001b[39m \u001b[38;5;28mself\u001b[39m\u001b[38;5;241m.\u001b[39mW_s_K(F_s)  \u001b[38;5;66;03m# Get Key, shape (batchsize, hw, c=d_k)\u001b[39;00m\n\u001b[0;32m     35\u001b[0m \u001b[38;5;66;03m# Transposed Key has shape (batchsize, c=d_k, hw)\u001b[39;00m\n\u001b[0;32m     36\u001b[0m \u001b[38;5;66;03m# This corresponds to K x hw dimensions of M in eqn.4, see page 8 first sentence\u001b[39;00m\n\u001b[0;32m     37\u001b[0m \u001b[38;5;66;03m# Q_a's dimension is unsqueezed to get (batchsize, 1, numtokens, d_k)\u001b[39;00m\n\u001b[0;32m     38\u001b[0m \u001b[38;5;66;03m# in order to use torch.matmul (see its documents for explanation)\u001b[39;00m\n\u001b[0;32m     39\u001b[0m \u001b[38;5;66;03m# Such that the result QK has shape (batchsize, numtokens, hw)\u001b[39;00m\n\u001b[1;32m---> 40\u001b[0m QK \u001b[38;5;241m=\u001b[39m torch\u001b[38;5;241m.\u001b[39mmatmul(Q_a\u001b[38;5;241m.\u001b[39munsqueeze(\u001b[38;5;241m1\u001b[39m), K_s\u001b[38;5;241m.\u001b[39mtranspose(\u001b[38;5;241m1\u001b[39m,\u001b[38;5;241m2\u001b[39m)) \u001b[38;5;241m/\u001b[39m \u001b[43mtorch\u001b[49m\u001b[38;5;241;43m.\u001b[39;49m\u001b[43msqrt\u001b[49m\u001b[43m(\u001b[49m\u001b[38;5;28;43mself\u001b[39;49m\u001b[38;5;241;43m.\u001b[39;49m\u001b[43md_k\u001b[49m\u001b[43m)\u001b[49m\n\u001b[0;32m     42\u001b[0m \u001b[38;5;28mprint\u001b[39m(QK\u001b[38;5;241m.\u001b[39mshape)\n",
      "\u001b[1;31mTypeError\u001b[0m: sqrt(): argument 'input' (position 1) must be Tensor, not int"
     ]
    }
   ],
   "source": [
    "for idx, batch in enumerate(dataloader_trn):\n",
    "    \n",
    "    query_img = batch['query_img']\n",
    "    supp_imgs = batch['support_imgs']\n",
    "    supp_masks = batch['support_masks']\n",
    "    \n",
    "    # STEP 1: Extract Features from the backbone model (ResNet)\n",
    "    F_Q, F_S, s_mask_list, f_s, M_s = feature_extractor(query_img, supp_imgs, supp_masks)\n",
    "\n",
    "    # STEP 2.1: Pass the features from encoder \n",
    "    F_S_hat = representation_encoder(F_S)\n",
    "    \n",
    "    # STEP 2.2: Get Initial Agent Tokens\n",
    "    # TODO: can we get rid of for loop?\n",
    "    X, L = [], []\n",
    "    for i, m in enumerate(M_s):  # M_s has shape (batchsize, 1, 16, 16)\n",
    "      m = m.squeeze(0)  # Get a single mask, shape (16, 16)\n",
    "\n",
    "      fg = np.where(m == 1.) # get foreground pixels\n",
    "      bg = np.where(m == 0.) # get background pixels\n",
    "      \n",
    "      # Create tensor with shape [num_foreground_pix, 2] where the last dimension has (x,y) locations of foreground pixels\n",
    "      foreground_pix = torch.stack((torch.from_numpy(fg[0]), torch.from_numpy(fg[1])), dim=1)\n",
    "      background_pix = torch.stack((torch.from_numpy(bg[0]), torch.from_numpy(bg[1])), dim=1)\n",
    "\n",
    "      X.append(foreground_pix)\n",
    "      L.append(background_pix)\n",
    "\n",
    "    tokens = init_agent_tokens(num_tokens, X, L, f_s) # every token has [K,c] dim for every sample in a batch\n",
    "    \n",
    "    \n",
    "    # STEP 3: Pass initial agent tokens through Agent Learning Decoder\n",
    "    # and obtain agent tokens.\n",
    "    agent_learning_decoder(tokens, F_S_hat, M_s)\n",
    "    \n",
    "    # STEP 4: Pass agent tokens through Agent Matching Decoder\n",
    "    break"
   ]
  },
  {
   "cell_type": "code",
   "execution_count": null,
   "metadata": {},
   "outputs": [],
   "source": []
  }
 ],
 "metadata": {
  "colab": {
   "provenance": []
  },
  "kernelspec": {
   "display_name": "Python 3 (ipykernel)",
   "language": "python",
   "name": "python3"
  },
  "language_info": {
   "codemirror_mode": {
    "name": "ipython",
    "version": 3
   },
   "file_extension": ".py",
   "mimetype": "text/x-python",
   "name": "python",
   "nbconvert_exporter": "python",
   "pygments_lexer": "ipython3",
   "version": "3.10.9"
  }
 },
 "nbformat": 4,
 "nbformat_minor": 1
}
