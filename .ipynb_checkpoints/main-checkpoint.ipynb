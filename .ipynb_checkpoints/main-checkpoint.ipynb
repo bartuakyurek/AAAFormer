{
 "cells": [
  {
   "cell_type": "markdown",
   "metadata": {
    "id": "Sb1Cl230zcBr",
    "tags": []
   },
   "source": [
    "# AAFormer: Adaptive Agent Transformer for Few-shot Segmentation\n",
    "\n",
    "**Paper authors:** Yuan Wang, Rui Sun, Zhe Zhang, Tianzhu Zhang\n",
    "\n",
    "**Reproduced by:** Yusuf Soydan, Bartu Akyürek\n",
    "\n",
    "This paper is about few-shot segmentation (FSS), aiming to segment objects in a given image and a set of support images with masks."
   ]
  },
  {
   "cell_type": "markdown",
   "metadata": {
    "id": "pXD3nzm8Ct1o",
    "tags": []
   },
   "source": [
    "## Prepare Workspace\n"
   ]
  },
  {
   "cell_type": "code",
   "execution_count": null,
   "metadata": {
    "colab": {
     "base_uri": "https://localhost:8080/"
    },
    "executionInfo": {
     "elapsed": 39425,
     "status": "ok",
     "timestamp": 1686906465014,
     "user": {
      "displayName": "YUSUF SOYDAN",
      "userId": "00202688238108159918"
     },
     "user_tz": -180
    },
    "id": "JFk1LpSfzcBy",
    "outputId": "927b29bb-ac68-49aa-d38b-0e6e698bf42d",
    "tags": []
   },
   "outputs": [
    {
     "name": "stdout",
     "output_type": "stream",
     "text": [
      "Requirement already satisfied: POT in c:\\users\\bartu\\anaconda3\\lib\\site-packages (0.9.0)\n",
      "Requirement already satisfied: scipy>=1.0 in c:\\users\\bartu\\anaconda3\\lib\\site-packages (from POT) (1.10.0)\n",
      "Requirement already satisfied: numpy>=1.16 in c:\\users\\bartu\\anaconda3\\lib\\site-packages (from POT) (1.23.5)\n",
      "Requirement already satisfied: tqdm in c:\\users\\bartu\\anaconda3\\lib\\site-packages (4.64.1)\n",
      "Requirement already satisfied: colorama in c:\\users\\bartu\\anaconda3\\lib\\site-packages (from tqdm) (0.4.6)\n"
     ]
    }
   ],
   "source": [
    "!pip install POT\n",
    "!pip install tqdm\n",
    "!pip install torchinfo\n",
    "!pip install matplotlib\n",
    "!pip install tensorboard"
   ]
  },
  {
   "cell_type": "code",
   "execution_count": null,
   "metadata": {
    "executionInfo": {
     "elapsed": 2146,
     "status": "ok",
     "timestamp": 1686906467151,
     "user": {
      "displayName": "YUSUF SOYDAN",
      "userId": "00202688238108159918"
     },
     "user_tz": -180
    },
    "id": "k-aLaBEHCrCG",
    "tags": []
   },
   "outputs": [],
   "source": [
    "# General Dependencies\n",
    "%load_ext autoreload\n",
    "%autoreload 2\n",
    "\n",
    "import os\n",
    "import math\n",
    "import numpy as np\n",
    "\n",
    "import torch\n",
    "import torch.nn as nn\n",
    "import torch.optim as optim\n",
    "from torchinfo import summary\n",
    "from tqdm import tqdm"
   ]
  },
  {
   "cell_type": "code",
   "execution_count": null,
   "metadata": {
    "colab": {
     "base_uri": "https://localhost:8080/"
    },
    "executionInfo": {
     "elapsed": 2083,
     "status": "ok",
     "timestamp": 1686906469231,
     "user": {
      "displayName": "YUSUF SOYDAN",
      "userId": "00202688238108159918"
     },
     "user_tz": -180
    },
    "id": "EeduFwG_CuOC",
    "outputId": "657914d4-7fc0-4e62-a912-27e6978cde41",
    "tags": []
   },
   "outputs": [],
   "source": [
    "\"\"\"\n",
    "Run from Colab or local\n",
    "\"\"\"\n",
    "\n",
    "try:\n",
    "    from google.colab import drive\n",
    "    drive.mount('/content/gdrive')\n",
    "    ROOT_PATH = \"/content/gdrive/MyDrive/AAFormer\"\n",
    "    DATA_PATH = os.path.join(ROOT_PATH, \"Datasets\")\n",
    "\n",
    "    %cd ./gdrive/MyDrive/AAFormer\n",
    "    !matplotlib inline\n",
    "\n",
    "except:\n",
    "    ROOT_PATH = os.curdir\n",
    "    DATA_PATH = \"../Datasets\"\n",
    "    # Note: If you are running this notebook on your local, please put the Datasets folder outside of current directory"
   ]
  },
  {
   "cell_type": "code",
   "execution_count": null,
   "metadata": {
    "executionInfo": {
     "elapsed": 303,
     "status": "ok",
     "timestamp": 1686906469531,
     "user": {
      "displayName": "YUSUF SOYDAN",
      "userId": "00202688238108159918"
     },
     "user_tz": -180
    },
    "id": "E7E03tmxKfrK",
    "tags": []
   },
   "outputs": [],
   "source": [
    "# Source dependencies\n",
    "from data.dataset import FSSDataset\n",
    "from model.aaformer import AAFormer\n",
    "\n",
    "from train.train import train\n",
    "from common.vis import Visualizer\n",
    "from common.metrics import Metrics\n",
    "from common.dice_loss import DiceLoss\n",
    "from common.evaluation import Evaluator\n"
   ]
  },
  {
   "cell_type": "code",
   "execution_count": null,
   "metadata": {
    "executionInfo": {
     "elapsed": 11,
     "status": "ok",
     "timestamp": 1686906469531,
     "user": {
      "displayName": "YUSUF SOYDAN",
      "userId": "00202688238108159918"
     },
     "user_tz": -180
    },
    "id": "Q4eek7rCzcB4",
    "tags": []
   },
   "outputs": [],
   "source": [
    "# HYPERPARAMETERS\n",
    "# -----------------------------------------------------------------\n",
    "# Note: the parameters with * comment are NOT provided by the paper\n",
    "# TODO: make hyperparameters UPPER_CASE\n",
    "image_resolution = 128 # \n",
    "reduce_dim = 256\n",
    "c = 128              #   Hidden dimensions, According to paper: 328 \n",
    "hw = 256             # * Dimensionality of Feature maps (depends on ResNet choice)\n",
    "N = 16               # * Number of layers in Encoder/Decoder\n",
    "heads = 8            # * Number of attention heads\n",
    "num_tokens = 14      #   Number of Agent Tokens (see p.13, \"Hyperparameter Evaluations\"), According to paper: max. 14\n",
    "sinkhorn_reg = 0.05  #   Regularization term of Optimal Transport, (see supplementary), According to paper: 0.05\n",
    "max_iter_ot = 100    #   Maximum iterations of Optimal Transport algorithm, (see supplementary), According to paper: 10\n",
    "shot = 1\n",
    "\n",
    "batch_size = 4    # According to paper: 4\n",
    "adam_lr = 1e-4    # According to paper: 0.0001\n",
    "adam_decay = 1e-2 # According to paper: 0.01\n",
    "num_epoch = 20    # According to paper: 200\n",
    "\n",
    "# Additional parameters to control the flow\n",
    "# ----------------------------------------------------------------\n",
    "bypass_ot = False                         # To turn off OT module if it causes any problem (e.g. RAM failure)\n",
    "use_dice_loss = True                      # False means use CrossEntropy loss\n",
    "cuda = torch.cuda.is_available()          #\n",
    "device = 'cuda' if cuda else 'cpu'        #\n",
    "checkpoint = 100                          # Save the model every {checkpoint} iteration\n",
    "use_original_imgsize = False\n",
    "\n"
   ]
  },
  {
   "cell_type": "markdown",
   "metadata": {
    "id": "vw8PulDqFF0Z",
    "tags": []
   },
   "source": [
    "## Prepare PASCAL-$5^i$ Dataset"
   ]
  },
  {
   "cell_type": "code",
   "execution_count": null,
   "metadata": {
    "executionInfo": {
     "elapsed": 9,
     "status": "ok",
     "timestamp": 1686906469532,
     "user": {
      "displayName": "YUSUF SOYDAN",
      "userId": "00202688238108159918"
     },
     "user_tz": -180
    },
    "id": "SMLSQDPuEG2g",
    "tags": []
   },
   "outputs": [],
   "source": [
    "# STEP 1: Download PASCAL VOC2012 devkit (train/val data): (uncomment lines below)\n",
    "# ------------------------------------------------------------------------------\n",
    "#!wget http://host.robots.ox.ac.uk/pascal/VOC/voc2012/VOCtrainval_11-May-2012.tar\n",
    "#!tar -xvf 'VOCtrainval_11-May-2012.tar' -C ./Datasets/\n",
    "\n",
    "# (or instead of wget, use directly the link to download)\n",
    "# STEP 2: Place \"VOC2012\" folder from downloaded \"VOCdevkit\" folder under a \"Datasets\" folder.\n",
    "# ------------------------------------------------------------------------------\n",
    "#!mv Datasets/VOCdevkit/VOC2012 Datasets/VOC2012\n",
    "\n",
    "# STEP 3: Download extended annotations from here\n",
    "#!wget https://drive.google.com/file/d/10zxG2VExoEZUeyQl_uXga2OWHjGeZaf2/view\n",
    "\n",
    "# STEP 4: Extract Put the downloaded extension under \"Datasets/VOC2012/\"\n"
   ]
  },
  {
   "cell_type": "code",
   "execution_count": null,
   "metadata": {
    "colab": {
     "base_uri": "https://localhost:8080/"
    },
    "executionInfo": {
     "elapsed": 8,
     "status": "ok",
     "timestamp": 1686906469532,
     "user": {
      "displayName": "YUSUF SOYDAN",
      "userId": "00202688238108159918"
     },
     "user_tz": -180
    },
    "id": "N_HwSM49MOSM",
    "outputId": "a16d0fdb-dfa0-484f-9288-25d0c857a21d",
    "tags": []
   },
   "outputs": [],
   "source": [
    "# Dataset initialization\n",
    "OVERFIT = 1 # Make it -1 for original datasets, 0 for single class, 1 for single sample.\n",
    "\n",
    "if OVERFIT == 1:\n",
    "    batch_size = 1\n",
    "    shot = 1\n",
    "\n",
    "FSSDataset.initialize(img_size=image_resolution, datapath=DATA_PATH, use_original_imgsize=False)\n",
    "dataloader_trn = FSSDataset.build_dataloader(benchmark='pascal', bsz=batch_size, shot=shot, nworker=1, fold=0, split='trn',overfit=OVERFIT)\n",
    "dataloader_val = FSSDataset.build_dataloader(benchmark='pascal', bsz=batch_size, shot=shot, nworker=1, fold=0, split='val',overfit=OVERFIT)"
   ]
  },
  {
   "cell_type": "markdown",
   "metadata": {
    "id": "o_RwWgaOzcB8",
    "tags": []
   },
   "source": [
    "## Initialize Models"
   ]
  },
  {
   "cell_type": "code",
   "execution_count": null,
   "metadata": {
    "executionInfo": {
     "elapsed": 12682,
     "status": "ok",
     "timestamp": 1686906482208,
     "user": {
      "displayName": "YUSUF SOYDAN",
      "userId": "00202688238108159918"
     },
     "user_tz": -180
    },
    "id": "ZFOLGDYNgPbP",
    "tags": []
   },
   "outputs": [],
   "source": [
    "# Define AAFormer model\n",
    "\n",
    "model = AAFormer(cuda = cuda,\n",
    "                 c = c,\n",
    "                 hw = hw,\n",
    "                 N = N,\n",
    "                 heads = heads,\n",
    "                 num_tokens = num_tokens,\n",
    "                 im_res=image_resolution,\n",
    "                 reduce_dim=reduce_dim,\n",
    "                 bypass_ot=bypass_ot,\n",
    "                 sinkhorn_reg=sinkhorn_reg,\n",
    "                 max_iter_ot=max_iter_ot)\n",
    "\n",
    "\n",
    "# Optimzer\n",
    "# ----------------------------------------------------------------\n",
    "optimizer = {}                               # set after model set\n",
    "optimizer[\"adamw\"] = torch.optim.AdamW(model.parameters(), lr=adam_lr, weight_decay=adam_decay)"
   ]
  },
  {
   "cell_type": "code",
   "execution_count": null,
   "metadata": {
    "scrolled": true
   },
   "outputs": [],
   "source": [
    "# Load a pre-trained model (or comment if you are going to train from scratch)\n",
    "model = torch.load(\"model_20230618_165952_0\") \n"
   ]
  },
  {
   "cell_type": "markdown",
   "metadata": {
    "id": "KEuUBpqazcB-"
   },
   "source": [
    "## Training Loop"
   ]
  },
  {
   "cell_type": "code",
   "execution_count": null,
   "metadata": {
    "scrolled": true,
    "tags": []
   },
   "outputs": [],
   "source": [
    "if use_dice_loss:\n",
    "    loss_fn = DiceLoss()\n",
    "else:\n",
    "    loss_fn = nn.BCEWithLogitsLoss()\n",
    "    \n",
    "model.to(\"cpu\")\n",
    "\n",
    "train(\n",
    "    model=model, \n",
    "    loss_fn=loss_fn, \n",
    "    optimizer=optimizer[\"adamw\"], \n",
    "    num_epoch=num_epoch, \n",
    "    dataloader_trn=dataloader_trn, \n",
    "    dataloader_val=dataloader_val, \n",
    "    loss_batch=1,\n",
    "    device = device,\n",
    "    use_dice_loss=use_dice_loss,\n",
    "    overfit = OVERFIT == 1\n",
    ")"
   ]
  },
  {
   "cell_type": "markdown",
   "metadata": {},
   "source": [
    "### Save the final model (optional)"
   ]
  },
  {
   "cell_type": "code",
   "execution_count": null,
   "metadata": {},
   "outputs": [],
   "source": [
    "from datetime import datetime\n",
    "epoch_number = 0\n",
    "timestamp = datetime.now().strftime('%Y%m%d_%H%M%S')\n",
    "model_path = 'model_{}_{}'.format(timestamp, epoch_number)\n",
    "torch.save(model, model_path)"
   ]
  },
  {
   "cell_type": "markdown",
   "metadata": {
    "id": "SVGX4VW3HkTN"
   },
   "source": [
    "## Visualization Test"
   ]
  },
  {
   "cell_type": "code",
   "execution_count": null,
   "metadata": {
    "id": "nXPe83EmgIuM"
   },
   "outputs": [],
   "source": [
    "\"\"\" Code below saves the visualizations under './vis/' directory.\n",
    "    and declares evaluation metrics.\n",
    "    \n",
    "    DISCLAIMER: It is adopted from https://github.com/juhongm999/hsnet/tree/main\n",
    "\n",
    "\"\"\"\n",
    "\n",
    "Visualizer.initialize(True)\n",
    "Evaluator.initialize()\n",
    "\n",
    "average_meter = Metrics(device, num_class=20, dataset=FSSDataset.dataset)\n",
    "\n",
    "vis_step = 100\n",
    "for idx, batch in enumerate(dataloader_trn):\n",
    "\n",
    "        # STEP 0: Get query image and support images with corresponding masks\n",
    "        query_img = batch['query_img'].to(device)\n",
    "        supp_imgs = batch['support_imgs'].to(device)\n",
    "        supp_masks = batch['support_masks'].to(device)\n",
    "\n",
    "        # STEP 1: Get predicted mask\n",
    "        model.eval()\n",
    "        pred_mask = model(query_img, supp_imgs, supp_masks, normalize=use_dice_loss)\n",
    "        pred_mask = pred_mask.squeeze(1).cpu()\n",
    "        assert pred_mask.size() == batch['query_mask'].size()\n",
    "\n",
    "        # 2. Evaluate prediction\n",
    "        area_inter, area_union = Evaluator.classify_prediction(pred_mask.clone(), batch)\n",
    "\n",
    "        average_meter.update(area_inter, area_union, batch['class_id'], loss=None)\n",
    "\n",
    "        # Visualize predictions\n",
    "        if Visualizer.visualize:\n",
    "            Visualizer.visualize_prediction_batch(batch['support_imgs'], batch['support_masks'],\n",
    "                                                  batch['query_img'], batch['query_mask'],\n",
    "                                                  pred_mask, batch['class_id'], idx,\n",
    "                                                  area_inter[1].float() / area_union[1].float())\n",
    "\n",
    "        if idx+1 == vis_step:\n",
    "            break\n",
    "\n",
    "miou, fb_iou = average_meter.compute_iou()\n",
    "print(\"mIoU: \", miou)\n",
    "print(\"FB-IoU: \", fb_iou)"
   ]
  },
  {
   "cell_type": "code",
   "execution_count": null,
   "metadata": {
    "id": "km6MNOz_zcCC"
   },
   "outputs": [],
   "source": []
  }
 ],
 "metadata": {
  "colab": {
   "collapsed_sections": [
    "vw8PulDqFF0Z",
    "SVGX4VW3HkTN",
    "ZG66w6l1mTEe"
   ],
   "provenance": []
  },
  "kernelspec": {
   "display_name": "Python 3 (ipykernel)",
   "language": "python",
   "name": "python3"
  },
  "language_info": {
   "codemirror_mode": {
    "name": "ipython",
    "version": 3
   },
   "file_extension": ".py",
   "mimetype": "text/x-python",
   "name": "python",
   "nbconvert_exporter": "python",
   "pygments_lexer": "ipython3",
   "version": "3.10.9"
  },
  "toc-autonumbering": true
 },
 "nbformat": 4,
 "nbformat_minor": 4
}
