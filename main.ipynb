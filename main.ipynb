{
 "cells": [
  {
   "cell_type": "markdown",
   "metadata": {},
   "source": [
    "# AAFormer: Adaptive Agent Transformer for Few-shot Segmentation\n",
    "\n",
    "**Paper authors:** Yuan Wang, Rui Sun, Zhe Zhang, Tianzhu Zhang\n",
    "\n",
    "**Reproduced by:** Yusuf Soydan, Bartu Akyürek\n",
    "\n",
    "This paper is about few-shot segmentation (FSS), aiming to segment objects in a given image and a set of support images with masks."
   ]
  },
  {
   "cell_type": "markdown",
   "metadata": {
    "id": "pXD3nzm8Ct1o"
   },
   "source": [
    "## Prepare Workspace\n"
   ]
  },
  {
   "cell_type": "code",
   "execution_count": 1,
   "metadata": {
    "id": "k-aLaBEHCrCG"
   },
   "outputs": [],
   "source": [
    "# General Dependencies\n",
    "\n",
    "import os\n",
    "import math\n",
    "import numpy as np\n",
    "\n",
    "import torch\n",
    "import torch.nn as nn\n",
    "import torch.optim as optim"
   ]
  },
  {
   "cell_type": "code",
   "execution_count": 2,
   "metadata": {
    "colab": {
     "base_uri": "https://localhost:8080/"
    },
    "id": "EeduFwG_CuOC",
    "outputId": "e841e3ad-267b-4a49-a62d-d7d92d8815fa"
   },
   "outputs": [],
   "source": [
    "\"\"\"\n",
    "Run from Colab or local\n",
    "\"\"\"\n",
    "\n",
    "try:\n",
    "    from google.colab import drive\n",
    "    drive.mount('/content/gdrive')\n",
    "    ROOT_PATH = \"/content/gdrive/MyDrive/AAFormer\"\n",
    "    DATA_PATH = os.path.join(ROOT_PATH, \"Datasets\")\n",
    "    \n",
    "    %cd ./gdrive/MyDrive/AAFormer\n",
    "\n",
    "except:\n",
    "    ROOT_PATH = os.curdir\n",
    "    DATA_PATH = \"../Datasets\"\n",
    "    # Note: If you are running this notebook on your local, please put the Datasets folder outside of current directory"
   ]
  },
  {
   "cell_type": "code",
   "execution_count": 3,
   "metadata": {
    "id": "E7E03tmxKfrK"
   },
   "outputs": [],
   "source": [
    "# Source dependencies\n",
    "from data.dataset import FSSDataset\n",
    "from common.vis import Visualizer\n",
    "from common.evaluation import Evaluator"
   ]
  },
  {
   "cell_type": "code",
   "execution_count": 4,
   "metadata": {},
   "outputs": [],
   "source": [
    "# HYPERPARAMETERS\n",
    "# -----------------------------------------------------------------\n",
    "# Note: the parameters with * comment are NOT provided by the paper\n",
    "# TODO: make hyperparameters UPPER_CASE\n",
    "image_resolution = 128\n",
    "reduce_dim = 256\n",
    "c = 2048            # * Hidden dimensions\n",
    "hw = 256            # * Dimensionality of Feature maps (depends on ResNet choice)\n",
    "N = 16              # * Number of layers in Encoder/Decoder\n",
    "heads = 8           # * Number of attention heads\n",
    "num_tokens = 15     # * Number of Agent Tokens\n",
    "sinkhorn_reg = 5e-1 # * Regularization term of Optimal Transport\n",
    "max_iter_ot = 100   # * Maximum iterations of Optimal Transport algorithm \n",
    "\n",
    "batch_size = 4    # According to paper: 4\n",
    "adam_lr = 1e-4    # According to paper: 0.0001\n",
    "adam_decay = 1e-2 # According to paper: 0.01\n",
    "num_epoch = 400   # According to paper: 400\n",
    "\n",
    "# Additional parameters to control the flow\n",
    "# ----------------------------------------------------------------\n",
    "bypass_ot = False                         # To turn off OT module if it causes any problem (e.g. RAM failure)\n",
    "use_dice_loss = False                     # False means use CrossEntropy loss\n",
    "cuda = torch.cuda.is_available()          # \n",
    "device = 'cuda' if cuda else 'cpu'        # \n",
    "checkpoint = 100                          # Save the model every {checkpoint} iteration"
   ]
  },
  {
   "cell_type": "markdown",
   "metadata": {
    "id": "vw8PulDqFF0Z"
   },
   "source": [
    "## Prepare PASCAL-$5^i$ Dataset"
   ]
  },
  {
   "cell_type": "code",
   "execution_count": 5,
   "metadata": {
    "id": "SMLSQDPuEG2g"
   },
   "outputs": [],
   "source": [
    "# STEP 1: Download PASCAL VOC2012 devkit (train/val data): (uncomment lines below)\n",
    "# ------------------------------------------------------------------------------\n",
    "#!wget http://host.robots.ox.ac.uk/pascal/VOC/voc2012/VOCtrainval_11-May-2012.tar\n",
    "#!tar -xvf 'VOCtrainval_11-May-2012.tar' -C ./Datasets/ \n",
    "\n",
    "# (or instead of wget, use directly the link to download)\n",
    "# STEP 2: Place \"VOC2012\" folder from downloaded \"VOCdevkit\" folder under a \"Datasets\" folder.\n",
    "# ------------------------------------------------------------------------------\n",
    "#!mv Datasets/VOCdevkit/VOC2012 Datasets/VOC2012\n",
    "\n",
    "# STEP 3: Download extended annotations from here\n",
    "#!wget https://drive.google.com/file/d/10zxG2VExoEZUeyQl_uXga2OWHjGeZaf2/view\n",
    "\n",
    "# STEP 4: Extract Put the downloaded extension under \"Datasets/VOC2012/\"\n"
   ]
  },
  {
   "cell_type": "code",
   "execution_count": 6,
   "metadata": {
    "colab": {
     "base_uri": "https://localhost:8080/"
    },
    "id": "N_HwSM49MOSM",
    "outputId": "bb442e9a-ad30-495a-deb7-46d97dad395f"
   },
   "outputs": [
    {
     "name": "stdout",
     "output_type": "stream",
     "text": [
      "Total (trn) images are : 11394\n",
      "Total (val) images are : 346\n"
     ]
    }
   ],
   "source": [
    "# Dataset initialization \n",
    "# TODO: does paper mention about image size? TODO: yes, 473\n",
    "# TODO: they also do data aug...\n",
    "# TODO: add disclaimer to dataset files https://github.com/juhongm999/hsnet/blob/main/train.py\n",
    "FSSDataset.initialize(img_size=image_resolution, datapath=DATA_PATH, use_original_imgsize=False)\n",
    "dataloader_trn = FSSDataset.build_dataloader(benchmark='pascal', bsz=4, nworker=1, fold=0, split='trn')\n",
    "dataloader_val = FSSDataset.build_dataloader(benchmark='pascal', bsz=4, nworker=1, fold=0, split='val')"
   ]
  },
  {
   "cell_type": "markdown",
   "metadata": {},
   "source": [
    "## Initialize Models"
   ]
  },
  {
   "cell_type": "code",
   "execution_count": 7,
   "metadata": {
    "colab": {
     "base_uri": "https://localhost:8080/"
    },
    "id": "ZFOLGDYNgPbP",
    "outputId": "9e2792dc-84f6-4b3b-f704-e393d13c7d7c"
   },
   "outputs": [],
   "source": [
    "from model.aaformer import AAFormer\n",
    "from common.dice_loss import BinaryDiceLoss\n",
    "\n",
    "model = AAFormer(cuda = cuda,\n",
    "                 c = c,\n",
    "                 hw = hw,\n",
    "                 N = N,\n",
    "                 heads = heads, \n",
    "                 num_tokens = num_tokens, \n",
    "                 im_res=image_resolution, \n",
    "                 reduce_dim=reduce_dim, \n",
    "                 bypass_ot=bypass_ot, \n",
    "                 sinkhorn_reg=sinkhorn_reg,\n",
    "                 max_iter_ot=max_iter_ot)"
   ]
  },
  {
   "cell_type": "markdown",
   "metadata": {},
   "source": [
    "## Training Loop"
   ]
  },
  {
   "cell_type": "code",
   "execution_count": null,
   "metadata": {
    "scrolled": false
   },
   "outputs": [
    {
     "name": "stderr",
     "output_type": "stream",
     "text": [
      "C:\\Users\\bartu\\anaconda3\\lib\\site-packages\\ot\\bregman.py:535: UserWarning: Sinkhorn did not converge. You might want to increase the number of iterations `numItermax` or the regularization parameter `reg`.\n",
      "  warnings.warn(\"Sinkhorn did not converge. You might want to \"\n",
      " 71%|█████████████████████████████████████████████████████████▏                      | 183/256 [00:06<00:02, 28.65it/s]"
     ]
    }
   ],
   "source": [
    "# See Supplementary Material: \"Dice loss is adopted to train our model\" and AdamW optimizer is used for transformer blocks\n",
    "# Although BCE loss is not mentioned in the paper, many papers working on segmentation uses BCE to compare the binary masks\n",
    "# Dice loss function we used returns a very low value (about 0.8), which may result in tiny gradients.\n",
    "dice_loss = BinaryDiceLoss()\n",
    "bce_loss = nn.CrossEntropyLoss()\n",
    "\n",
    "optimizer = torch.optim.AdamW(model.parameters(), lr=adam_lr, weight_decay=adam_decay)\n",
    "# TODO: how to seperate optimizers for models and rest?\n",
    "\n",
    "step = 0\n",
    "train_losses = []\n",
    "val_losses = []\n",
    "for epoch in range(num_epoch):\n",
    "    \n",
    "    model.train()\n",
    "    train_loss = 0.0\n",
    "    for idx, batch in enumerate(dataloader_trn):\n",
    "\n",
    "        # STEP 0: Get query image and support images with corresponding masks\n",
    "        query_img = batch['query_img'].to(device)\n",
    "        supp_imgs = batch['support_imgs'].to(device)\n",
    "        supp_masks = batch['support_masks'].to(device)\n",
    "\n",
    "        # STEP 1: Get predicted mask\n",
    "        preds = model(query_img, supp_imgs, supp_masks, normalize=use_dice_loss) # TODO: make normalize false if torch.CrossEntropy is used\n",
    "\n",
    "        # STEP 2: Compute Dice loss\n",
    "        if use_dice_loss:\n",
    "            loss = dice_loss(preds.squeeze(1), supp_masks.squeeze(1))\n",
    "        else:\n",
    "            loss = bce_loss(preds.squeeze(1), supp_masks.squeeze(1))\n",
    "        \n",
    "        train_loss += loss.item()\n",
    "\n",
    "        # STEP 3: Update optimizer\n",
    "        step += 1\n",
    "        loss.backward()\n",
    "        optimizer.step()\n",
    "        print(\"Step \", step, \" Loss: \", loss.item())\n",
    "        \n",
    "        # TODO: save model file at every X iteration\n",
    "        if(step % checkpoint == 0):\n",
    "            pass\n",
    "\n",
    "    # Append the average loss\n",
    "    train_losses.append(train_loss/len(dataloader_trn))\n",
    "    print(\"Epoch \", epoch, \" Loss: \", train_loss/len(dataloader_trn))\n",
    "\n",
    "    # TODO: validation loss? (with torch.no_grad():?)\n",
    "    "
   ]
  },
  {
   "cell_type": "markdown",
   "metadata": {
    "id": "SVGX4VW3HkTN"
   },
   "source": [
    "## Visualization Test"
   ]
  },
  {
   "cell_type": "code",
   "execution_count": null,
   "metadata": {
    "id": "nXPe83EmgIuM"
   },
   "outputs": [],
   "source": [
    "\"\"\" Code below visualizes prediction (to be used in testing)\n",
    "Visualizer.initialize(True)\n",
    "Evaluator.initialize()\n",
    "\n",
    "for idx, batch in enumerate(dataloader_trn):\n",
    "        # 1. Hypercorrelation Squeeze Networks forward pass\n",
    "        #batch = utils.to_cuda(batch)\n",
    "        #pred_mask = model.module.predict_mask_nshot(batch, nshot=nshot)\n",
    "\n",
    "        #assert pred_mask.size() == batch['query_mask'].size()\n",
    "        pred_mask = batch['query_mask']\n",
    "\n",
    "        # 2. Evaluate prediction\n",
    "        area_inter, area_union = Evaluator.classify_prediction(pred_mask.clone(), batch)\n",
    "        \n",
    "        #average_meter.update(area_inter, area_union, batch['class_id'], loss=None)\n",
    "        #average_meter.write_process(idx, len(dataloader), epoch=-1, write_batch_idx=1)\n",
    "\n",
    "        # Visualize predictions\n",
    "        if Visualizer.visualize:\n",
    "            Visualizer.visualize_prediction_batch(batch['support_imgs'], batch['support_masks'],\n",
    "                                                  batch['query_img'], batch['query_mask'],\n",
    "                                                  pred_mask, batch['class_id'], idx,\n",
    "                                                  area_inter[1].float() / area_union[1].float())\n",
    "\n",
    "        break   # TODO: delete this break to run visualization for full dataset\n",
    "\"\"\""
   ]
  },
  {
   "cell_type": "code",
   "execution_count": null,
   "metadata": {},
   "outputs": [],
   "source": [
    "# TODO: declare numerical results"
   ]
  },
  {
   "cell_type": "code",
   "execution_count": null,
   "metadata": {},
   "outputs": [],
   "source": []
  }
 ],
 "metadata": {
  "colab": {
   "provenance": []
  },
  "kernelspec": {
   "display_name": "Python 3 (ipykernel)",
   "language": "python",
   "name": "python3"
  },
  "language_info": {
   "codemirror_mode": {
    "name": "ipython",
    "version": 3
   },
   "file_extension": ".py",
   "mimetype": "text/x-python",
   "name": "python",
   "nbconvert_exporter": "python",
   "pygments_lexer": "ipython3",
   "version": "3.10.9"
  }
 },
 "nbformat": 4,
 "nbformat_minor": 1
}
