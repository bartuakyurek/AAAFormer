{
 "cells": [
  {
   "cell_type": "markdown",
   "metadata": {
    "id": "Sb1Cl230zcBr",
    "tags": []
   },
   "source": [
    "# AAFormer: Adaptive Agent Transformer for Few-shot Segmentation\n",
    "\n",
    "**Paper authors:** Yuan Wang, Rui Sun, Zhe Zhang, Tianzhu Zhang\n",
    "\n",
    "**Reproduced by:** Yusuf Soydan, Bartu Akyürek\n",
    "\n",
    "This paper is about few-shot segmentation (FSS), aiming to segment objects in a given image and a set of support images with masks."
   ]
  },
  {
   "cell_type": "markdown",
   "metadata": {
    "id": "pXD3nzm8Ct1o",
    "tags": []
   },
   "source": [
    "## Prepare Workspace\n"
   ]
  },
  {
   "cell_type": "code",
   "execution_count": 1,
   "metadata": {
    "colab": {
     "base_uri": "https://localhost:8080/"
    },
    "executionInfo": {
     "elapsed": 39425,
     "status": "ok",
     "timestamp": 1686906465014,
     "user": {
      "displayName": "YUSUF SOYDAN",
      "userId": "00202688238108159918"
     },
     "user_tz": -180
    },
    "id": "JFk1LpSfzcBy",
    "outputId": "927b29bb-ac68-49aa-d38b-0e6e698bf42d",
    "tags": []
   },
   "outputs": [
    {
     "name": "stdout",
     "output_type": "stream",
     "text": [
      "Requirement already satisfied: POT in c:\\users\\bartu\\anaconda3\\lib\\site-packages (0.9.0)\n",
      "Requirement already satisfied: scipy>=1.0 in c:\\users\\bartu\\anaconda3\\lib\\site-packages (from POT) (1.10.0)\n",
      "Requirement already satisfied: numpy>=1.16 in c:\\users\\bartu\\anaconda3\\lib\\site-packages (from POT) (1.23.5)\n",
      "Requirement already satisfied: tqdm in c:\\users\\bartu\\anaconda3\\lib\\site-packages (4.64.1)\n",
      "Requirement already satisfied: colorama in c:\\users\\bartu\\anaconda3\\lib\\site-packages (from tqdm) (0.4.6)\n",
      "Requirement already satisfied: torchinfo in c:\\users\\bartu\\anaconda3\\lib\\site-packages (1.8.0)\n",
      "Requirement already satisfied: matplotlib in c:\\users\\bartu\\anaconda3\\lib\\site-packages (3.7.0)\n",
      "Requirement already satisfied: pyparsing>=2.3.1 in c:\\users\\bartu\\anaconda3\\lib\\site-packages (from matplotlib) (3.0.9)\n",
      "Requirement already satisfied: numpy>=1.20 in c:\\users\\bartu\\anaconda3\\lib\\site-packages (from matplotlib) (1.23.5)\n",
      "Requirement already satisfied: pillow>=6.2.0 in c:\\users\\bartu\\anaconda3\\lib\\site-packages (from matplotlib) (9.4.0)\n",
      "Requirement already satisfied: kiwisolver>=1.0.1 in c:\\users\\bartu\\anaconda3\\lib\\site-packages (from matplotlib) (1.4.4)\n",
      "Requirement already satisfied: packaging>=20.0 in c:\\users\\bartu\\anaconda3\\lib\\site-packages (from matplotlib) (22.0)\n",
      "Requirement already satisfied: contourpy>=1.0.1 in c:\\users\\bartu\\anaconda3\\lib\\site-packages (from matplotlib) (1.0.5)\n",
      "Requirement already satisfied: cycler>=0.10 in c:\\users\\bartu\\anaconda3\\lib\\site-packages (from matplotlib) (0.11.0)\n",
      "Requirement already satisfied: fonttools>=4.22.0 in c:\\users\\bartu\\anaconda3\\lib\\site-packages (from matplotlib) (4.25.0)\n",
      "Requirement already satisfied: python-dateutil>=2.7 in c:\\users\\bartu\\anaconda3\\lib\\site-packages (from matplotlib) (2.8.2)\n",
      "Requirement already satisfied: six>=1.5 in c:\\users\\bartu\\anaconda3\\lib\\site-packages (from python-dateutil>=2.7->matplotlib) (1.16.0)\n",
      "Requirement already satisfied: tensorboard in c:\\users\\bartu\\anaconda3\\lib\\site-packages (2.13.0)\n",
      "Requirement already satisfied: requests<3,>=2.21.0 in c:\\users\\bartu\\anaconda3\\lib\\site-packages (from tensorboard) (2.28.1)\n",
      "Requirement already satisfied: markdown>=2.6.8 in c:\\users\\bartu\\anaconda3\\lib\\site-packages (from tensorboard) (3.4.1)\n",
      "Requirement already satisfied: wheel>=0.26 in c:\\users\\bartu\\anaconda3\\lib\\site-packages (from tensorboard) (0.38.4)\n",
      "Requirement already satisfied: tensorboard-data-server<0.8.0,>=0.7.0 in c:\\users\\bartu\\anaconda3\\lib\\site-packages (from tensorboard) (0.7.1)\n",
      "Requirement already satisfied: numpy>=1.12.0 in c:\\users\\bartu\\anaconda3\\lib\\site-packages (from tensorboard) (1.23.5)\n",
      "Requirement already satisfied: werkzeug>=1.0.1 in c:\\users\\bartu\\anaconda3\\lib\\site-packages (from tensorboard) (2.2.2)\n",
      "Requirement already satisfied: protobuf>=3.19.6 in c:\\users\\bartu\\anaconda3\\lib\\site-packages (from tensorboard) (4.23.3)\n",
      "Requirement already satisfied: absl-py>=0.4 in c:\\users\\bartu\\anaconda3\\lib\\site-packages (from tensorboard) (1.4.0)\n",
      "Requirement already satisfied: grpcio>=1.48.2 in c:\\users\\bartu\\anaconda3\\lib\\site-packages (from tensorboard) (1.54.2)\n",
      "Requirement already satisfied: setuptools>=41.0.0 in c:\\users\\bartu\\anaconda3\\lib\\site-packages (from tensorboard) (65.6.3)\n",
      "Requirement already satisfied: google-auth<3,>=1.6.3 in c:\\users\\bartu\\anaconda3\\lib\\site-packages (from tensorboard) (2.20.0)\n",
      "Requirement already satisfied: google-auth-oauthlib<1.1,>=0.5 in c:\\users\\bartu\\anaconda3\\lib\\site-packages (from tensorboard) (1.0.0)\n",
      "Requirement already satisfied: six>=1.9.0 in c:\\users\\bartu\\anaconda3\\lib\\site-packages (from google-auth<3,>=1.6.3->tensorboard) (1.16.0)\n",
      "Requirement already satisfied: pyasn1-modules>=0.2.1 in c:\\users\\bartu\\anaconda3\\lib\\site-packages (from google-auth<3,>=1.6.3->tensorboard) (0.2.8)\n",
      "Requirement already satisfied: urllib3<2.0 in c:\\users\\bartu\\anaconda3\\lib\\site-packages (from google-auth<3,>=1.6.3->tensorboard) (1.26.14)\n",
      "Requirement already satisfied: cachetools<6.0,>=2.0.0 in c:\\users\\bartu\\anaconda3\\lib\\site-packages (from google-auth<3,>=1.6.3->tensorboard) (5.3.1)\n",
      "Requirement already satisfied: rsa<5,>=3.1.4 in c:\\users\\bartu\\anaconda3\\lib\\site-packages (from google-auth<3,>=1.6.3->tensorboard) (4.9)\n",
      "Requirement already satisfied: requests-oauthlib>=0.7.0 in c:\\users\\bartu\\anaconda3\\lib\\site-packages (from google-auth-oauthlib<1.1,>=0.5->tensorboard) (1.3.1)\n",
      "Requirement already satisfied: charset-normalizer<3,>=2 in c:\\users\\bartu\\anaconda3\\lib\\site-packages (from requests<3,>=2.21.0->tensorboard) (2.0.4)\n",
      "Requirement already satisfied: idna<4,>=2.5 in c:\\users\\bartu\\anaconda3\\lib\\site-packages (from requests<3,>=2.21.0->tensorboard) (3.4)\n",
      "Requirement already satisfied: certifi>=2017.4.17 in c:\\users\\bartu\\anaconda3\\lib\\site-packages (from requests<3,>=2.21.0->tensorboard) (2022.12.7)\n",
      "Requirement already satisfied: MarkupSafe>=2.1.1 in c:\\users\\bartu\\anaconda3\\lib\\site-packages (from werkzeug>=1.0.1->tensorboard) (2.1.1)\n",
      "Requirement already satisfied: pyasn1<0.5.0,>=0.4.6 in c:\\users\\bartu\\anaconda3\\lib\\site-packages (from pyasn1-modules>=0.2.1->google-auth<3,>=1.6.3->tensorboard) (0.4.8)\n",
      "Requirement already satisfied: oauthlib>=3.0.0 in c:\\users\\bartu\\anaconda3\\lib\\site-packages (from requests-oauthlib>=0.7.0->google-auth-oauthlib<1.1,>=0.5->tensorboard) (3.2.2)\n"
     ]
    }
   ],
   "source": [
    "!pip install POT\n",
    "!pip install tqdm\n",
    "!pip install torchinfo\n",
    "!pip install matplotlib\n",
    "!pip install tensorboard"
   ]
  },
  {
   "cell_type": "code",
   "execution_count": 2,
   "metadata": {
    "executionInfo": {
     "elapsed": 2146,
     "status": "ok",
     "timestamp": 1686906467151,
     "user": {
      "displayName": "YUSUF SOYDAN",
      "userId": "00202688238108159918"
     },
     "user_tz": -180
    },
    "id": "k-aLaBEHCrCG",
    "tags": []
   },
   "outputs": [],
   "source": [
    "# General Dependencies\n",
    "\n",
    "import os\n",
    "import math\n",
    "import numpy as np\n",
    "\n",
    "import torch\n",
    "import torch.nn as nn\n",
    "import torch.optim as optim\n",
    "from torchinfo import summary\n",
    "from tqdm import tqdm"
   ]
  },
  {
   "cell_type": "code",
   "execution_count": 3,
   "metadata": {
    "colab": {
     "base_uri": "https://localhost:8080/"
    },
    "executionInfo": {
     "elapsed": 2083,
     "status": "ok",
     "timestamp": 1686906469231,
     "user": {
      "displayName": "YUSUF SOYDAN",
      "userId": "00202688238108159918"
     },
     "user_tz": -180
    },
    "id": "EeduFwG_CuOC",
    "outputId": "657914d4-7fc0-4e62-a912-27e6978cde41",
    "tags": []
   },
   "outputs": [],
   "source": [
    "\"\"\"\n",
    "Run from Colab or local\n",
    "\"\"\"\n",
    "\n",
    "try:\n",
    "    from google.colab import drive\n",
    "    drive.mount('/content/gdrive')\n",
    "    ROOT_PATH = \"/content/gdrive/MyDrive/AAFormer\"\n",
    "    DATA_PATH = os.path.join(ROOT_PATH, \"Datasets\")\n",
    "\n",
    "    %cd ./gdrive/MyDrive/AAFormer\n",
    "    !matplotlib inline\n",
    "\n",
    "except:\n",
    "    ROOT_PATH = os.curdir\n",
    "    DATA_PATH = \"../Datasets\"\n",
    "    # Note: If you are running this notebook on your local, please put the Datasets folder outside of current directory"
   ]
  },
  {
   "cell_type": "code",
   "execution_count": 4,
   "metadata": {
    "executionInfo": {
     "elapsed": 303,
     "status": "ok",
     "timestamp": 1686906469531,
     "user": {
      "displayName": "YUSUF SOYDAN",
      "userId": "00202688238108159918"
     },
     "user_tz": -180
    },
    "id": "E7E03tmxKfrK",
    "tags": []
   },
   "outputs": [],
   "source": [
    "# Source dependencies\n",
    "from data.dataset import FSSDataset\n",
    "from model.aaformer import AAFormer\n",
    "\n",
    "from common.vis import Visualizer\n",
    "from common.dice_loss import DiceLoss\n",
    "from common.evaluation import Evaluator\n",
    "from common.dice_loss import DiceLoss\n",
    "from train.train import train\n"
   ]
  },
  {
   "cell_type": "code",
   "execution_count": 5,
   "metadata": {
    "executionInfo": {
     "elapsed": 11,
     "status": "ok",
     "timestamp": 1686906469531,
     "user": {
      "displayName": "YUSUF SOYDAN",
      "userId": "00202688238108159918"
     },
     "user_tz": -180
    },
    "id": "Q4eek7rCzcB4",
    "tags": []
   },
   "outputs": [],
   "source": [
    "# HYPERPARAMETERS\n",
    "# -----------------------------------------------------------------\n",
    "# Note: the parameters with * comment are NOT provided by the paper\n",
    "# TODO: make hyperparameters UPPER_CASE\n",
    "image_resolution = 128\n",
    "reduce_dim = 256\n",
    "c = 328             #   Hidden dimensions, According to paper: 328\n",
    "hw = 256            # * Dimensionality of Feature maps (depends on ResNet choice)\n",
    "N = 16              # * Number of layers in Encoder/Decoder\n",
    "heads = 8           # * Number of attention heads\n",
    "num_tokens = 14     #   Number of Agent Tokens (see p.13, \"Hyperparameter Evaluations\"), According to paper: max. 14\n",
    "sinkhorn_reg = 0.05 #   Regularization term of Optimal Transport, (see supplementary), According to paper: 0.05\n",
    "max_iter_ot = 50    #   Maximum iterations of Optimal Transport algorithm, (see supplementary), According to paper: 10\n",
    "shot = 1\n",
    "\n",
    "batch_size = 16    # According to paper: 4\n",
    "adam_lr = 1e-4    # According to paper: 0.0001\n",
    "adam_decay = 1e-2 # According to paper: 0.01\n",
    "num_epoch = 20    # According to paper: 200\n",
    "\n",
    "# Additional parameters to control the flow\n",
    "# ----------------------------------------------------------------\n",
    "bypass_ot = False                         # To turn off OT module if it causes any problem (e.g. RAM failure)\n",
    "use_dice_loss = True                      # False means use CrossEntropy loss\n",
    "cuda = torch.cuda.is_available()          #\n",
    "device = 'cuda' if cuda else 'cpu'        #\n",
    "checkpoint = 100                          # Save the model every {checkpoint} iteration\n",
    "\n",
    "## Optimzer\n",
    "# ----------------------------------------------------------------\n",
    "optimizer = {}                            # set after model set"
   ]
  },
  {
   "cell_type": "markdown",
   "metadata": {
    "id": "vw8PulDqFF0Z",
    "tags": []
   },
   "source": [
    "## Prepare PASCAL-$5^i$ Dataset"
   ]
  },
  {
   "cell_type": "code",
   "execution_count": 6,
   "metadata": {
    "executionInfo": {
     "elapsed": 9,
     "status": "ok",
     "timestamp": 1686906469532,
     "user": {
      "displayName": "YUSUF SOYDAN",
      "userId": "00202688238108159918"
     },
     "user_tz": -180
    },
    "id": "SMLSQDPuEG2g",
    "tags": []
   },
   "outputs": [],
   "source": [
    "# STEP 1: Download PASCAL VOC2012 devkit (train/val data): (uncomment lines below)\n",
    "# ------------------------------------------------------------------------------\n",
    "#!wget http://host.robots.ox.ac.uk/pascal/VOC/voc2012/VOCtrainval_11-May-2012.tar\n",
    "#!tar -xvf 'VOCtrainval_11-May-2012.tar' -C ./Datasets/\n",
    "\n",
    "# (or instead of wget, use directly the link to download)\n",
    "# STEP 2: Place \"VOC2012\" folder from downloaded \"VOCdevkit\" folder under a \"Datasets\" folder.\n",
    "# ------------------------------------------------------------------------------\n",
    "#!mv Datasets/VOCdevkit/VOC2012 Datasets/VOC2012\n",
    "\n",
    "# STEP 3: Download extended annotations from here\n",
    "#!wget https://drive.google.com/file/d/10zxG2VExoEZUeyQl_uXga2OWHjGeZaf2/view\n",
    "\n",
    "# STEP 4: Extract Put the downloaded extension under \"Datasets/VOC2012/\"\n"
   ]
  },
  {
   "cell_type": "code",
   "execution_count": 7,
   "metadata": {
    "colab": {
     "base_uri": "https://localhost:8080/"
    },
    "executionInfo": {
     "elapsed": 8,
     "status": "ok",
     "timestamp": 1686906469532,
     "user": {
      "displayName": "YUSUF SOYDAN",
      "userId": "00202688238108159918"
     },
     "user_tz": -180
    },
    "id": "N_HwSM49MOSM",
    "outputId": "a16d0fdb-dfa0-484f-9288-25d0c857a21d",
    "tags": []
   },
   "outputs": [
    {
     "name": "stdout",
     "output_type": "stream",
     "text": [
      "Total (trn) images are : 11394\n",
      "Total (val) images are : 346\n"
     ]
    }
   ],
   "source": [
    "# Dataset initialization\n",
    "# TODO: does paper mention about image size? TODO: yes, 473\n",
    "# TODO: they also do data aug...\n",
    "# TODO: add disclaimer to dataset files https://github.com/juhongm999/hsnet/blob/main/train.py\n",
    "FSSDataset.initialize(img_size=image_resolution, datapath=DATA_PATH, use_original_imgsize=False)\n",
    "dataloader_trn = FSSDataset.build_dataloader(benchmark='pascal', bsz=batch_size, shot=shot, nworker=1, fold=0, split='trn')\n",
    "dataloader_val = FSSDataset.build_dataloader(benchmark='pascal', bsz=batch_size, shot=shot, nworker=1, fold=0, split='val')"
   ]
  },
  {
   "cell_type": "markdown",
   "metadata": {
    "id": "o_RwWgaOzcB8",
    "tags": []
   },
   "source": [
    "## Initialize Models"
   ]
  },
  {
   "cell_type": "code",
   "execution_count": 8,
   "metadata": {
    "executionInfo": {
     "elapsed": 12682,
     "status": "ok",
     "timestamp": 1686906482208,
     "user": {
      "displayName": "YUSUF SOYDAN",
      "userId": "00202688238108159918"
     },
     "user_tz": -180
    },
    "id": "ZFOLGDYNgPbP",
    "tags": []
   },
   "outputs": [],
   "source": [
    "from model.aaformer import AAFormer\n",
    "from common.dice_loss import BinaryDiceLoss\n",
    "\n",
    "model = AAFormer(cuda = cuda,\n",
    "                 c = c,\n",
    "                 hw = hw,\n",
    "                 N = N,\n",
    "                 heads = heads,\n",
    "                 num_tokens = num_tokens,\n",
    "                 im_res=image_resolution,\n",
    "                 reduce_dim=reduce_dim,\n",
    "                 bypass_ot=bypass_ot,\n",
    "                 sinkhorn_reg=sinkhorn_reg,\n",
    "                 max_iter_ot=max_iter_ot)\n",
    "\n",
    "optimizer[\"adamw\"] = torch.optim.AdamW(model.parameters(), lr=adam_lr, weight_decay=adam_decay)\n",
    "\n",
    "if use_dice_loss:\n",
    "    loss_fn = DiceLoss()\n",
    "else:\n",
    "    loss_fn = nn.BCEWithLogitsLoss()"
   ]
  },
  {
   "cell_type": "markdown",
   "metadata": {
    "id": "KEuUBpqazcB-"
   },
   "source": [
    "## Training Loop"
   ]
  },
  {
   "cell_type": "code",
   "execution_count": null,
   "metadata": {
    "scrolled": true,
    "tags": []
   },
   "outputs": [
    {
     "name": "stdout",
     "output_type": "stream",
     "text": [
      "EPOCH 1:\n",
      "iteration 1\n",
      ">>> tensor(5.)\n"
     ]
    },
    {
     "name": "stderr",
     "output_type": "stream",
     "text": [
      "C:\\Users\\bartu\\anaconda3\\lib\\site-packages\\ot\\bregman.py:535: UserWarning: Sinkhorn did not converge. You might want to increase the number of iterations `numItermax` or the regularization parameter `reg`.\n",
      "  warnings.warn(\"Sinkhorn did not converge. You might want to \"\n"
     ]
    },
    {
     "name": "stdout",
     "output_type": "stream",
     "text": [
      "  batch 1 loss: 0.6637640595436096\n"
     ]
    },
    {
     "data": {
      "image/png": "[encoded data removed]",
      "text/plain": [
       "<Figure size 640x480 with 16 Axes>"
      ]
     },
     "metadata": {},
     "output_type": "display_data"
    },
    {
     "data": {
      "image/png": "[encoded data removed]",
      "text/plain": [
       "<Figure size 640x480 with 16 Axes>"
      ]
     },
     "metadata": {},
     "output_type": "display_data"
    },
    {
     "data": {
      "image/png": "[encoded data removed]",
      "text/plain": [
       "<Figure size 640x480 with 16 Axes>"
      ]
     },
     "metadata": {},
     "output_type": "display_data"
    },
    {
     "name": "stdout",
     "output_type": "stream",
     "text": [
      "iteration 2\n"
     ]
    }
   ],
   "source": [
    "train(\n",
    "    model=model, \n",
    "    loss_fn=loss_fn, \n",
    "    optimizer=optimizer[\"adamw\"], \n",
    "    num_epoch=num_epoch, \n",
    "    dataloader_trn=dataloader_trn, \n",
    "    dataloader_val=dataloader_val, \n",
    "    loss_batch=1,\n",
    "    device = device,\n",
    "    use_dice_loss=use_dice_loss\n",
    ")"
   ]
  },
  {
   "cell_type": "code",
   "execution_count": null,
   "metadata": {},
   "outputs": [],
   "source": [
    "from scipy.spatial.distance import cdist\n",
    "\n",
    "X = [torch.randn((6,2))]\n",
    "L = [torch.randn((3,2))]\n",
    "b_ind = 0\n",
    "\n",
    "a = torch.from_numpy(cdist(X[b_ind], L[b_ind], 'euclidean'))\n",
    "b = torch.cdist(X[b_ind], L[b_ind])\n",
    "                \n",
    "print(torch.eq(a,b))"
   ]
  },
  {
   "cell_type": "code",
   "execution_count": null,
   "metadata": {
    "colab": {
     "base_uri": "https://localhost:8080/",
     "height": 1000
    },
    "executionInfo": {
     "elapsed": 23022,
     "status": "error",
     "timestamp": 1686906506099,
     "user": {
      "displayName": "YUSUF SOYDAN",
      "userId": "00202688238108159918"
     },
     "user_tz": -180
    },
    "id": "llxkuWjQzcB-",
    "outputId": "d3875f58-3ad3-4fdb-c531-f0a2023f7e50",
    "scrolled": true,
    "tags": []
   },
   "outputs": [],
   "source": [
    "# See Supplementary Material: \"Dice loss is adopted to train our model\" and AdamW optimizer is used for transformer blocks\n",
    "# Although BCE loss is not mentioned in the paper, many papers working on segmentation uses BCE to compare the binary masks\n",
    "# Dice loss function we used returns a very low value (about 0.8), which may result in tiny gradients.\n",
    "dice_loss = DiceLoss() #BinaryDiceLoss()\n",
    "bce_loss = nn.CrossEntropyLoss()\n",
    "\n",
    "optimizer = torch.optim.AdamW(model.parameters(), lr=adam_lr, weight_decay=adam_decay)\n",
    "# TODO: how to seperate optimizers for models and rest?\n",
    "\n",
    "#####\n",
    "use_dice_loss = True\n",
    "####\n",
    "\n",
    "step = 0\n",
    "train_losses = []\n",
    "val_losses = []\n",
    "for epoch in range(num_epoch):\n",
    "\n",
    "    model.train()\n",
    "    train_loss = 0.0\n",
    "    for idx, batch in tqdm(enumerate(dataloader_trn)):\n",
    "\n",
    "        # STEP 0: Get query image and support images with corresponding masks\n",
    "        query_img = batch['query_img'].to(device)\n",
    "        query_mask = batch['query_mask'].to(device)\n",
    "        supp_imgs = batch['support_imgs'].to(device)\n",
    "        supp_masks = batch['support_masks'].to(device)\n",
    "\n",
    "        # STEP 1: Get predicted mask\n",
    "        #try:\n",
    "        preds = model(query_img, supp_imgs, supp_masks, normalize=use_dice_loss) \n",
    "        #except:\n",
    "        #    print(\">> Unexpected error occured, skipping this batch...\")\n",
    "        #    continue\n",
    "\n",
    "        # STEP 2: Compute Dice loss (Note: Dice loss is from rage [0,1])\n",
    "        # Dice loss and Cross Entropy loss expects [N, C, *] shape,\n",
    "        # where N is the batch size and C is the number of classes\n",
    "        # Assumption: we assume C = 1, the only class is mask, i.e. a pixels is either from the\n",
    "        # mask class or not. Pixels belonging to mask class makes up the segmentation result.\n",
    "        if use_dice_loss:\n",
    "            loss = dice_loss(preds, query_mask.unsqueeze(1)) # Make query_mask shape (batchsize,*) --> (batchsize, 1, *)\n",
    "        else:\n",
    "            loss = bce_loss(preds, query_mask.unsqueeze(1))  # Make query_mask shape (batchsize,*) --> (batchsize, 1, *)\n",
    "\n",
    "        train_loss += loss.item()\n",
    "\n",
    "        # STEP 3: Update optimizer\n",
    "        step += 1\n",
    "        loss.backward()\n",
    "        optimizer.step()\n",
    "\n",
    "        #### Ploting preds with inputs ####\n",
    "        image_plot(query_img, supp_imgs, supp_masks, preds)\n",
    "        print(f\"iteration {idx+1} train_loss = {loss.item()}\")\n",
    "        if(idx+1 % 10 == 0):\n",
    "            print(f\"Step:{step} Loss:{loss.item()}\")\n",
    "            #image_plot(query_img, supp_imgs, supp_masks, preds)\n",
    "\n",
    "\n",
    "        # TODO: save model file at every X iteration\n",
    "        if(step % checkpoint == 0):\n",
    "            pass\n",
    "\n",
    "    # Append the average loss\n",
    "    train_losses.append(train_loss/len(dataloader_trn))\n",
    "    print(\"Epoch \", epoch, \" Loss: \", train_loss/len(dataloader_trn))\n",
    "\n",
    "    # TODO: validation loss? (with torch.no_grad():?)\n"
   ]
  },
  {
   "cell_type": "code",
   "execution_count": null,
   "metadata": {
    "tags": []
   },
   "outputs": [],
   "source": [
    "# TODO plot train/val loss"
   ]
  },
  {
   "cell_type": "code",
   "execution_count": null,
   "metadata": {
    "tags": []
   },
   "outputs": [],
   "source": [
    "image_plot(query_img, supp_imgs, supp_masks, preds)"
   ]
  },
  {
   "cell_type": "code",
   "execution_count": null,
   "metadata": {
    "tags": []
   },
   "outputs": [],
   "source": [
    "preds.shape"
   ]
  },
  {
   "cell_type": "code",
   "execution_count": null,
   "metadata": {
    "tags": []
   },
   "outputs": [],
   "source": [
    "fig = plt.figure()\n",
    "i = 0\n",
    "for q in range(query_img.shape[0]):\n",
    "    plt.subplot(query_img.shape[1],query_img.shape[0],i+1)\n",
    "    plt.imshow(transform_img(query_img[q,:,:,:]))\n",
    "    plt.suptitle(\"query_img\", y=0.7)\n",
    "    plt.axis('off')\n",
    "    i += 1\n",
    "plt.show()\n",
    "\n",
    "i = 0\n",
    "for s in range(supp_imgs.shape[1]):\n",
    "    for supp_img in supp_imgs[:,s,:,:]:\n",
    "        plt.subplot(supp_imgs.shape[1],supp_imgs.shape[0],i+1)\n",
    "        plt.imshow(transform_img(supp_img))\n",
    "        plt.suptitle(\"supp_img\", y=0.7)\n",
    "        plt.axis('off')\n",
    "        i += 1\n",
    "plt.show()\n",
    "\n",
    "i = 0\n",
    "for s in range(supp_masks.shape[1]):\n",
    "    for supp_mask in supp_masks[:,s,:,:]:\n",
    "        plt.subplot(supp_masks.shape[1],supp_masks.shape[0],i+1)\n",
    "        plt.imshow(transform_mask(supp_mask))\n",
    "        plt.suptitle(\"supp_masks\", y=0.7)\n",
    "        plt.axis('off')\n",
    "        i += 1\n",
    "plt.show()"
   ]
  },
  {
   "cell_type": "markdown",
   "metadata": {
    "id": "SVGX4VW3HkTN"
   },
   "source": [
    "## Visualization Test"
   ]
  },
  {
   "cell_type": "code",
   "execution_count": null,
   "metadata": {
    "id": "nXPe83EmgIuM"
   },
   "outputs": [],
   "source": [
    "\"\"\" Code below visualizes prediction (to be used in testing) \"\"\"\n",
    "\n",
    "Visualizer.initialize(True)\n",
    "Evaluator.initialize()\n",
    "\n",
    "vis_step = 1\n",
    "\n",
    "for idx, batch in enumerate(dataloader_trn):\n",
    "\n",
    "        # STEP 0: Get query image and support images with corresponding masks\n",
    "        query_img = batch['query_img'].to(device)\n",
    "        supp_imgs = batch['support_imgs'].to(device)\n",
    "        supp_masks = batch['support_masks'].to(device)\n",
    "\n",
    "        # STEP 1: Get predicted mask\n",
    "        model.eval()\n",
    "        pred_mask = model(query_img, supp_imgs, supp_masks, normalize=use_dice_loss)\n",
    "        pred_mask = pred_mask.squeeze(1)\n",
    "\n",
    "        #print(batch['query_mask'].shape)\n",
    "        #print(pred_mask.shape)\n",
    "        assert pred_mask.size() == batch['query_mask'].size()\n",
    "\n",
    "\n",
    "        # 2. Evaluate prediction\n",
    "        area_inter, area_union = Evaluator.classify_prediction(pred_mask.clone(), batch)\n",
    "\n",
    "        #average_meter.update(area_inter, area_union, batch['class_id'], loss=None)\n",
    "        #average_meter.write_process(idx, len(dataloader), epoch=-1, write_batch_idx=1)\n",
    "\n",
    "        # Visualize predictions\n",
    "        if Visualizer.visualize:\n",
    "            Visualizer.visualize_prediction_batch(batch['support_imgs'], batch['support_masks'],\n",
    "                                                  batch['query_img'], batch['query_mask'],\n",
    "                                                  pred_mask, batch['class_id'], idx,\n",
    "                                                  area_inter[1].float() / area_union[1].float())\n",
    "\n",
    "        if idx+1 == vis_step:\n",
    "            break\n",
    "\n"
   ]
  },
  {
   "cell_type": "code",
   "execution_count": null,
   "metadata": {
    "id": "Yin3RkbIzcCB"
   },
   "outputs": [],
   "source": [
    "# TODO: declare numerical results"
   ]
  },
  {
   "cell_type": "code",
   "execution_count": null,
   "metadata": {
    "id": "km6MNOz_zcCC"
   },
   "outputs": [],
   "source": []
  }
 ],
 "metadata": {
  "colab": {
   "collapsed_sections": [
    "vw8PulDqFF0Z",
    "SVGX4VW3HkTN",
    "ZG66w6l1mTEe"
   ],
   "provenance": []
  },
  "kernelspec": {
   "display_name": "Python 3 (ipykernel)",
   "language": "python",
   "name": "python3"
  },
  "language_info": {
   "codemirror_mode": {
    "name": "ipython",
    "version": 3
   },
   "file_extension": ".py",
   "mimetype": "text/x-python",
   "name": "python",
   "nbconvert_exporter": "python",
   "pygments_lexer": "ipython3",
   "version": "3.10.9"
  },
  "toc-autonumbering": true
 },
 "nbformat": 4,
 "nbformat_minor": 4
}
