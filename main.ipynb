{
 "cells": [
  {
   "cell_type": "markdown",
   "metadata": {
    "id": "pXD3nzm8Ct1o"
   },
   "source": []
  },
  {
   "cell_type": "code",
   "execution_count": 1,
   "metadata": {
    "executionInfo": {
     "elapsed": 4268,
     "status": "ok",
     "timestamp": 1686421807783,
     "user": {
      "displayName": "Bartu Akyürek",
      "userId": "00827499266119122923"
     },
     "user_tz": -180
    },
    "id": "k-aLaBEHCrCG"
   },
   "outputs": [],
   "source": [
    "# General Dependencies\n",
    "\n",
    "import os\n",
    "import math\n",
    "import numpy as np\n",
    "import torch\n",
    "\n",
    "# Lines below are reloading modules every time you run a cell,\n",
    "# such that this cell doesn't have to be re-run every time something\n",
    "# changes in the source code.\n",
    "#%load_ext autoreload \n",
    "#%autoreload 2"
   ]
  },
  {
   "cell_type": "code",
   "execution_count": 3,
   "metadata": {
    "colab": {
     "base_uri": "https://localhost:8080/"
    },
    "executionInfo": {
     "elapsed": 33988,
     "status": "ok",
     "timestamp": 1686421841766,
     "user": {
      "displayName": "Bartu Akyürek",
      "userId": "00827499266119122923"
     },
     "user_tz": -180
    },
    "id": "EeduFwG_CuOC",
    "outputId": "4d84e8d8-52bb-488e-a0f7-26a5f35ac19f"
   },
   "outputs": [],
   "source": [
    "\"\"\"\n",
    "Run from Colab or local\n",
    "\"\"\"\n",
    "\n",
    "try:\n",
    "    from google.colab import drive\n",
    "    drive.mount('/content/gdrive')\n",
    "    ROOT_PATH = \"/content/gdrive/MyDrive/AAAFormer\"\n",
    "    DATA_PATH = os.path.join(ROOT_PATH, \"Datasets\")\n",
    "    \n",
    "    %cd ./gdrive/MyDrive/AAAFormer\n",
    "\n",
    "except:\n",
    "    ROOT_PATH = os.curdir\n",
    "    DATA_PATH = \"../Datasets\"\n",
    "\n",
    "\n"
   ]
  },
  {
   "cell_type": "code",
   "execution_count": 4,
   "metadata": {
    "executionInfo": {
     "elapsed": 7260,
     "status": "ok",
     "timestamp": 1686421849015,
     "user": {
      "displayName": "Bartu Akyürek",
      "userId": "00827499266119122923"
     },
     "user_tz": -180
    },
    "id": "E7E03tmxKfrK"
   },
   "outputs": [],
   "source": [
    "# Source dependencies\n",
    "from data.dataset import FSSDataset\n",
    "from common.vis import Visualizer\n",
    "from common.evaluation import Evaluator"
   ]
  },
  {
   "cell_type": "markdown",
   "metadata": {
    "id": "vw8PulDqFF0Z"
   },
   "source": [
    "## Prepare PASCAL-$5^i$ Dataset"
   ]
  },
  {
   "cell_type": "code",
   "execution_count": 13,
   "metadata": {
    "executionInfo": {
     "elapsed": 10,
     "status": "ok",
     "timestamp": 1686421849017,
     "user": {
      "displayName": "Bartu Akyürek",
      "userId": "00827499266119122923"
     },
     "user_tz": -180
    },
    "id": "SMLSQDPuEG2g"
   },
   "outputs": [
    {
     "name": "stderr",
     "output_type": "stream",
     "text": [
      "'gdown' is not recognized as an internal or external command,\n",
      "operable program or batch file.\n"
     ]
    }
   ],
   "source": [
    "# STEP 1: Download PASCAL VOC2012 devkit (train/val data): (uncomment lines below)\n",
    "# ------------------------------------------------------------------------------\n",
    "#!wget http://host.robots.ox.ac.uk/pascal/VOC/voc2012/VOCtrainval_11-May-2012.tar\n",
    "#!tar -xvf 'VOCtrainval_11-May-2012.tar' -C ./Datasets/ \n",
    "\n",
    "# (or instead of wget, use directly the link to download)\n",
    "# STEP 2: Place \"VOC2012\" folder from downloaded \"VOCdevkit\" folder under a \"Datasets\" folder.\n",
    "# ------------------------------------------------------------------------------\n",
    "#!mv Datasets/VOCdevkit/VOC2012 Datasets/VOC2012\n",
    "\n",
    "# STEP 3: Download extended annotations from here\n",
    "#!gdown https://drive.google.com/file/d/10zxG2VExoEZUeyQl_uXga2OWHjGeZaf2/view\n",
    "\n",
    "# STEP 4: Extract Put the downloaded extension under \"Datasets/VOC2012/\"\n"
   ]
  },
  {
   "cell_type": "code",
   "execution_count": 5,
   "metadata": {
    "colab": {
     "base_uri": "https://localhost:8080/"
    },
    "executionInfo": {
     "elapsed": 2931,
     "status": "ok",
     "timestamp": 1686421851941,
     "user": {
      "displayName": "Bartu Akyürek",
      "userId": "00827499266119122923"
     },
     "user_tz": -180
    },
    "id": "N_HwSM49MOSM",
    "outputId": "080267d2-3ccd-4590-f82b-e03625e8f8f4"
   },
   "outputs": [
    {
     "name": "stdout",
     "output_type": "stream",
     "text": [
      "Total (trn) images are : 11394\n",
      "Total (val) images are : 346\n"
     ]
    }
   ],
   "source": [
    "# Dataset initialization \n",
    "# TODO: does paper mention about image size? TODO: yes, 473\n",
    "# TODO: they also do data aug...\n",
    "# TODO: add disclaimer to dataset files https://github.com/juhongm999/hsnet/blob/main/train.py\n",
    "FSSDataset.initialize(img_size=128, datapath=DATA_PATH, use_original_imgsize=False)\n",
    "dataloader_trn = FSSDataset.build_dataloader(benchmark='pascal', bsz=4, nworker=1, fold=0, split='trn')\n",
    "dataloader_val = FSSDataset.build_dataloader(benchmark='pascal', bsz=4, nworker=1, fold=0, split='val')"
   ]
  },
  {
   "cell_type": "markdown",
   "metadata": {
    "id": "SVGX4VW3HkTN"
   },
   "source": [
    "## deneme"
   ]
  },
  {
   "cell_type": "code",
   "execution_count": 6,
   "metadata": {
    "executionInfo": {
     "elapsed": 9,
     "status": "ok",
     "timestamp": 1686421849018,
     "user": {
      "displayName": "Bartu Akyürek",
      "userId": "00827499266119122923"
     },
     "user_tz": -180
    },
    "id": "WvVXL82vHiF8"
   },
   "outputs": [],
   "source": [
    "Visualizer.initialize(True)\n",
    "Evaluator.initialize()"
   ]
  },
  {
   "cell_type": "code",
   "execution_count": 7,
   "metadata": {
    "colab": {
     "base_uri": "https://localhost:8080/",
     "height": 676
    },
    "executionInfo": {
     "elapsed": 16630,
     "status": "error",
     "timestamp": 1686421870078,
     "user": {
      "displayName": "Bartu Akyürek",
      "userId": "00827499266119122923"
     },
     "user_tz": -180
    },
    "id": "nXPe83EmgIuM",
    "outputId": "da36625f-3359-4955-eaf8-e66734fe43bf"
   },
   "outputs": [],
   "source": [
    "\"\"\" Code below visualizes prediction (to be used in testing)\n",
    "\n",
    "\"\"\"\n",
    "for idx, batch in enumerate(dataloader_trn):\n",
    "        # 1. Hypercorrelation Squeeze Networks forward pass\n",
    "        #batch = utils.to_cuda(batch)\n",
    "        #pred_mask = model.module.predict_mask_nshot(batch, nshot=nshot)\n",
    "\n",
    "        #assert pred_mask.size() == batch['query_mask'].size()\n",
    "        pred_mask = batch['query_mask']\n",
    "\n",
    "        # 2. Evaluate prediction\n",
    "        area_inter, area_union = Evaluator.classify_prediction(pred_mask.clone(), batch)\n",
    "        \n",
    "        #average_meter.update(area_inter, area_union, batch['class_id'], loss=None)\n",
    "        #average_meter.write_process(idx, len(dataloader), epoch=-1, write_batch_idx=1)\n",
    "\n",
    "        # Visualize predictions\n",
    "        if Visualizer.visualize:\n",
    "            Visualizer.visualize_prediction_batch(batch['support_imgs'], batch['support_masks'],\n",
    "                                                  batch['query_img'], batch['query_mask'],\n",
    "                                                  pred_mask, batch['class_id'], idx,\n",
    "                                                  area_inter[1].float() / area_union[1].float())\n",
    "\n",
    "        break   # TODO: delete this break to run visualization for full dataset"
   ]
  },
  {
   "cell_type": "markdown",
   "metadata": {},
   "source": [
    "## Extract features"
   ]
  },
  {
   "cell_type": "code",
   "execution_count": 9,
   "metadata": {},
   "outputs": [],
   "source": [
    "from model import feature"
   ]
  },
  {
   "cell_type": "code",
   "execution_count": 10,
   "metadata": {},
   "outputs": [],
   "source": [
    "from torchvision.models import resnet\n",
    "from functools import reduce\n",
    "from operator import add\n",
    "\n",
    "for idx, batch in enumerate(dataloader_trn):\n",
    "\n",
    "    \n",
    "    query_img = batch['query_img']\n",
    "    \n",
    "    backbone = resnet.resnet50(pretrained=True)\n",
    "    \n",
    "    \n",
    "    nbottlenecks = [3, 4, 6, 3] # Resnet50\n",
    "    \n",
    "    feat_ids = list(range(4, 17))\n",
    "    bottleneck_ids = reduce(add, list(map(lambda x: list(range(x)), nbottlenecks)))\n",
    "    \n",
    "    lids = reduce(add, [[i + 1] * x for i, x in enumerate(nbottlenecks)])\n",
    "    stack_ids = torch.tensor(lids).bincount().__reversed__().cumsum(dim=0)[:3]\n",
    "    backbone.eval()\n",
    "    \n",
    "    query_feats = feature.extract_feat_res(query_img, backbone,  feat_ids, bottleneck_ids, lids)\n",
    "    \n",
    "    break"
   ]
  },
  {
   "cell_type": "code",
   "execution_count": 11,
   "metadata": {},
   "outputs": [
    {
     "name": "stdout",
     "output_type": "stream",
     "text": [
      "13\n"
     ]
    }
   ],
   "source": [
    "print(len(query_feats))\n",
    " \n"
   ]
  },
  {
   "cell_type": "code",
   "execution_count": 12,
   "metadata": {},
   "outputs": [
    {
     "name": "stdout",
     "output_type": "stream",
     "text": [
      "torch.Size([4, 512, 16, 16])\n",
      "torch.Size([4, 512, 16, 16])\n",
      "torch.Size([4, 512, 16, 16])\n",
      "torch.Size([4, 512, 16, 16])\n",
      "torch.Size([4, 1024, 8, 8])\n",
      "torch.Size([4, 1024, 8, 8])\n",
      "torch.Size([4, 1024, 8, 8])\n",
      "torch.Size([4, 1024, 8, 8])\n",
      "torch.Size([4, 1024, 8, 8])\n",
      "torch.Size([4, 1024, 8, 8])\n",
      "torch.Size([4, 2048, 4, 4])\n",
      "torch.Size([4, 2048, 4, 4])\n",
      "torch.Size([4, 2048, 4, 4])\n"
     ]
    }
   ],
   "source": [
    "for feat in query_feats:\n",
    "    print(feat.shape)"
   ]
  },
  {
   "cell_type": "markdown",
   "metadata": {},
   "source": [
    "## Initial Agent Tokens\n",
    "\n",
    "### TODO: if this implementation is OK, move it to a source file."
   ]
  },
  {
   "cell_type": "code",
   "execution_count": 131,
   "metadata": {},
   "outputs": [],
   "source": [
    "# num_tokens is K in the algorithm 1 (not the K of K-shot images)\n",
    "# Please refer to Algorithm 1 given in Supplementary Material\n",
    "# to match the notation of variables in the comments.\n",
    "# We assume X, locations of foreground pixels, is the locations of\n",
    "# f_s, i..e foreground support pixel features.\n",
    "\n",
    "\n",
    "# Shapes:\n",
    "# X --> [batchsize, num_foreground_pixels, 2]\n",
    "# L --> [batchsize, num_background_pixels, 2] last dimension is (x,y) location\n",
    "# f_s --> [batchsize, h, w, c] and h*w = num_foreground_pixels\n",
    "def init_agent_tokens(num_tokens, X, L, f_s):\n",
    "  \n",
    "    # Compute euclidean distance between every pair\n",
    "    # (foreground_pixel, bacground_pixel)\n",
    "    # in total, |X| x |L| pairs\n",
    "    dists_batch = torch.cdist(X, L)   # Get all the distances for K support ims\n",
    "\n",
    "    tokens = torch.empty((X.shape[0], num_tokens, f_s.shape[-1]))\n",
    "    L_new = []\n",
    "    # TODO: can we compute this jointly for all images in a batch?\n",
    "    for i in range(X.shape[0]):\n",
    "        L_single = L[i,:,:]      # L for a single image in a batch\n",
    "\n",
    "        for k in range(num_tokens):\n",
    "            dists = dists_batch[i]\n",
    "\n",
    "            # See line 3 of Algorithm 1 in Supplementary Material:\n",
    "            # for a specific location x, min distance between x and all other locations in L\n",
    "            d_x, d_x_ind = torch.min(dists, dim=1)  \n",
    "\n",
    "            # We don't care about the actual distance value, so it is named as _\n",
    "            # we care about which location has the furthest distance p* \n",
    "            _ , p_ind = torch.max(d_x, dim=0)\n",
    "\n",
    "            p_furthest = X[i, p_ind, :]      # This is a location (x,y) of a pixel\n",
    "            p_star = p_furthest.unsqueeze(0) # [2] --> [1,2] \n",
    "            L_single = torch.cat([L_single, p_star], dim=0) # L = (B) U (P), see line 5 in Algorithm 1\n",
    "\n",
    "            f_a_k = f_s[i, p_furthest.data[0].long().item(), p_furthest.data[1].long().item(), :]\n",
    "            \n",
    "            tokens[i,k,:] = f_a_k\n",
    "            \n",
    "        L_new.append(L_single)\n",
    "    \n",
    "    return tokens\n",
    "    \n",
    "    "
   ]
  },
  {
   "cell_type": "code",
   "execution_count": 132,
   "metadata": {},
   "outputs": [
    {
     "name": "stdout",
     "output_type": "stream",
     "text": [
      "torch.Size([2, 5, 3])\n"
     ]
    }
   ],
   "source": [
    "# TESTING initial tokens with random inputs ...\n",
    "X = torch.randint(low=0, high=1,size=(2, 4, 2)).float()\n",
    "L = torch.randint(low=0, high=2,size=(2, 6, 2)).float()\n",
    "num_tokens = K = 5\n",
    "f_s = torch.randn(2, 2, 2, 3)\n",
    "\n",
    "tokens = init_agent_tokens(K, X, L, f_s) # every token has [K,c] dim for every sample in a batch\n",
    "print(tokens.shape)"
   ]
  },
  {
   "cell_type": "code",
   "execution_count": 76,
   "metadata": {},
   "outputs": [],
   "source": [
    "\n",
    "for idx, batch in enumerate(dataloader_trn):\n",
    "    \n",
    "    query_img = batch['query_img']\n",
    "    \n",
    "    # get foreground pixels\n",
    "    # get background pixels\n",
    "    # get agent tokens\n",
    "    \n",
    "    break"
   ]
  },
  {
   "cell_type": "code",
   "execution_count": null,
   "metadata": {},
   "outputs": [],
   "source": []
  }
 ],
 "metadata": {
  "colab": {
   "authorship_tag": "ABX9TyPNbLymlf6He9Um7j1Pemtn",
   "provenance": []
  },
  "kernelspec": {
   "display_name": "Python 3 (ipykernel)",
   "language": "python",
   "name": "python3"
  },
  "language_info": {
   "codemirror_mode": {
    "name": "ipython",
    "version": 3
   },
   "file_extension": ".py",
   "mimetype": "text/x-python",
   "name": "python",
   "nbconvert_exporter": "python",
   "pygments_lexer": "ipython3",
   "version": "3.10.9"
  }
 },
 "nbformat": 4,
 "nbformat_minor": 1
}
