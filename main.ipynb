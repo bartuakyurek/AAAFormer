{
 "cells": [
  {
   "cell_type": "markdown",
   "metadata": {
    "id": "pXD3nzm8Ct1o"
   },
   "source": []
  },
  {
   "cell_type": "code",
   "execution_count": 1,
   "metadata": {
    "id": "k-aLaBEHCrCG"
   },
   "outputs": [],
   "source": [
    "# General Dependencies\n",
    "\n",
    "import os\n",
    "import math\n",
    "import numpy as np\n",
    "import torch\n"
   ]
  },
  {
   "cell_type": "code",
   "execution_count": 2,
   "metadata": {
    "colab": {
     "base_uri": "https://localhost:8080/"
    },
    "id": "EeduFwG_CuOC",
    "outputId": "e841e3ad-267b-4a49-a62d-d7d92d8815fa"
   },
   "outputs": [],
   "source": [
    "\"\"\"\n",
    "Run from Colab or local\n",
    "\"\"\"\n",
    "\n",
    "try:\n",
    "    from google.colab import drive\n",
    "    drive.mount('/content/gdrive')\n",
    "    ROOT_PATH = \"/content/gdrive/MyDrive/AAFormer\"\n",
    "    DATA_PATH = os.path.join(ROOT_PATH, \"Datasets\")\n",
    "    \n",
    "    %cd ./gdrive/MyDrive/AAFormer\n",
    "\n",
    "except:\n",
    "    ROOT_PATH = os.curdir\n",
    "    DATA_PATH = \"../Datasets\"\n",
    "\n",
    "\n"
   ]
  },
  {
   "cell_type": "code",
   "execution_count": 3,
   "metadata": {
    "id": "E7E03tmxKfrK"
   },
   "outputs": [],
   "source": [
    "# Source dependencies\n",
    "from data.dataset import FSSDataset\n",
    "from common.vis import Visualizer\n",
    "from common.evaluation import Evaluator"
   ]
  },
  {
   "cell_type": "markdown",
   "metadata": {
    "id": "vw8PulDqFF0Z"
   },
   "source": [
    "## Prepare PASCAL-$5^i$ Dataset"
   ]
  },
  {
   "cell_type": "code",
   "execution_count": 4,
   "metadata": {
    "id": "SMLSQDPuEG2g"
   },
   "outputs": [],
   "source": [
    "# STEP 1: Download PASCAL VOC2012 devkit (train/val data): (uncomment lines below)\n",
    "# ------------------------------------------------------------------------------\n",
    "#!wget http://host.robots.ox.ac.uk/pascal/VOC/voc2012/VOCtrainval_11-May-2012.tar\n",
    "#!tar -xvf 'VOCtrainval_11-May-2012.tar' -C ./Datasets/ \n",
    "\n",
    "# (or instead of wget, use directly the link to download)\n",
    "# STEP 2: Place \"VOC2012\" folder from downloaded \"VOCdevkit\" folder under a \"Datasets\" folder.\n",
    "# ------------------------------------------------------------------------------\n",
    "#!mv Datasets/VOCdevkit/VOC2012 Datasets/VOC2012\n",
    "\n",
    "# STEP 3: Download extended annotations from here\n",
    "#!wget https://drive.google.com/file/d/10zxG2VExoEZUeyQl_uXga2OWHjGeZaf2/view\n",
    "\n",
    "# STEP 4: Extract Put the downloaded extension under \"Datasets/VOC2012/\"\n"
   ]
  },
  {
   "cell_type": "code",
   "execution_count": 5,
   "metadata": {
    "colab": {
     "base_uri": "https://localhost:8080/"
    },
    "id": "N_HwSM49MOSM",
    "outputId": "bb442e9a-ad30-495a-deb7-46d97dad395f"
   },
   "outputs": [
    {
     "name": "stdout",
     "output_type": "stream",
     "text": [
      "Total (trn) images are : 11394\n",
      "Total (val) images are : 346\n"
     ]
    }
   ],
   "source": [
    "# Dataset initialization \n",
    "# TODO: does paper mention about image size? TODO: yes, 473\n",
    "# TODO: they also do data aug...\n",
    "# TODO: add disclaimer to dataset files https://github.com/juhongm999/hsnet/blob/main/train.py\n",
    "FSSDataset.initialize(img_size=128, datapath=DATA_PATH, use_original_imgsize=False)\n",
    "dataloader_trn = FSSDataset.build_dataloader(benchmark='pascal', bsz=4, nworker=1, fold=0, split='trn')\n",
    "dataloader_val = FSSDataset.build_dataloader(benchmark='pascal', bsz=4, nworker=1, fold=0, split='val')"
   ]
  },
  {
   "cell_type": "markdown",
   "metadata": {
    "id": "SVGX4VW3HkTN"
   },
   "source": [
    "## Visualization deneme"
   ]
  },
  {
   "cell_type": "code",
   "execution_count": 6,
   "metadata": {
    "id": "WvVXL82vHiF8"
   },
   "outputs": [],
   "source": [
    "Visualizer.initialize(True)\n",
    "Evaluator.initialize()"
   ]
  },
  {
   "cell_type": "code",
   "execution_count": 7,
   "metadata": {
    "id": "nXPe83EmgIuM"
   },
   "outputs": [
    {
     "data": {
      "text/plain": [
       "\" Code below visualizes prediction (to be used in testing)\\n\\nfor idx, batch in enumerate(dataloader_trn):\\n        # 1. Hypercorrelation Squeeze Networks forward pass\\n        #batch = utils.to_cuda(batch)\\n        #pred_mask = model.module.predict_mask_nshot(batch, nshot=nshot)\\n\\n        #assert pred_mask.size() == batch['query_mask'].size()\\n        pred_mask = batch['query_mask']\\n\\n        # 2. Evaluate prediction\\n        area_inter, area_union = Evaluator.classify_prediction(pred_mask.clone(), batch)\\n        \\n        #average_meter.update(area_inter, area_union, batch['class_id'], loss=None)\\n        #average_meter.write_process(idx, len(dataloader), epoch=-1, write_batch_idx=1)\\n\\n        # Visualize predictions\\n        if Visualizer.visualize:\\n            Visualizer.visualize_prediction_batch(batch['support_imgs'], batch['support_masks'],\\n                                                  batch['query_img'], batch['query_mask'],\\n                                                  pred_mask, batch['class_id'], idx,\\n                                                  area_inter[1].float() / area_union[1].float())\\n\\n        break   # TODO: delete this break to run visualization for full dataset\\n\""
      ]
     },
     "execution_count": 7,
     "metadata": {},
     "output_type": "execute_result"
    }
   ],
   "source": [
    "\"\"\" Code below visualizes prediction (to be used in testing)\n",
    "\n",
    "for idx, batch in enumerate(dataloader_trn):\n",
    "        # 1. Hypercorrelation Squeeze Networks forward pass\n",
    "        #batch = utils.to_cuda(batch)\n",
    "        #pred_mask = model.module.predict_mask_nshot(batch, nshot=nshot)\n",
    "\n",
    "        #assert pred_mask.size() == batch['query_mask'].size()\n",
    "        pred_mask = batch['query_mask']\n",
    "\n",
    "        # 2. Evaluate prediction\n",
    "        area_inter, area_union = Evaluator.classify_prediction(pred_mask.clone(), batch)\n",
    "        \n",
    "        #average_meter.update(area_inter, area_union, batch['class_id'], loss=None)\n",
    "        #average_meter.write_process(idx, len(dataloader), epoch=-1, write_batch_idx=1)\n",
    "\n",
    "        # Visualize predictions\n",
    "        if Visualizer.visualize:\n",
    "            Visualizer.visualize_prediction_batch(batch['support_imgs'], batch['support_masks'],\n",
    "                                                  batch['query_img'], batch['query_mask'],\n",
    "                                                  pred_mask, batch['class_id'], idx,\n",
    "                                                  area_inter[1].float() / area_union[1].float())\n",
    "\n",
    "        break   # TODO: delete this break to run visualization for full dataset\n",
    "\"\"\""
   ]
  },
  {
   "cell_type": "markdown",
   "metadata": {},
   "source": [
    "## Decoder Test"
   ]
  },
  {
   "cell_type": "code",
   "execution_count": 8,
   "metadata": {
    "colab": {
     "base_uri": "https://localhost:8080/"
    },
    "id": "ZFOLGDYNgPbP",
    "outputId": "9e2792dc-84f6-4b3b-f704-e393d13c7d7c"
   },
   "outputs": [],
   "source": [
    "from model.tokens import init_agent_tokens\n",
    "from model.featureextractor import FeatureExtractor\n",
    "from model.representationencoder import RepresentationEncoder\n",
    "from model.learningdecoder import AgentLearningDecoder\n",
    "\n",
    "# TODO: c is hyperparameter, gather these params at the beginning\n",
    "c = 2048\n",
    "hw = 256 \n",
    "reduce_dim = 256\n",
    "N = 16\n",
    "heads = 8\n",
    "num_tokens = 15 # TODO: make it a hyperparameter\n",
    "sinkhorn_reg = 1e-1 # Regularization term of Optimal Transport\n",
    "cuda = torch.cuda.is_available() \n",
    "\n",
    "feature_extractor = FeatureExtractor(layers=50, reduce_dim=reduce_dim, c=c)\n",
    "representation_encoder = RepresentationEncoder(c, hw, N, heads)\n",
    "agent_learning_decoder = AgentLearningDecoder(cuda, c, N, num_tokens, sinkhorn_reg = sinkhorn_reg)\n"
   ]
  },
  {
   "cell_type": "code",
   "execution_count": 9,
   "metadata": {},
   "outputs": [],
   "source": [
    "# For optimal transportation algorithm used in the paper\n",
    "# !pip install POT"
   ]
  },
  {
   "cell_type": "code",
   "execution_count": null,
   "metadata": {},
   "outputs": [],
   "source": [
    "for idx, batch in enumerate(dataloader_trn):\n",
    "    \n",
    "    query_img = batch['query_img']\n",
    "    supp_imgs = batch['support_imgs']\n",
    "    supp_masks = batch['support_masks']\n",
    "    \n",
    "    # STEP 1: Extract Features from the backbone model (ResNet)\n",
    "    F_Q, F_S, s_mask_list, f_s, M_s = feature_extractor(query_img, supp_imgs, supp_masks)\n",
    "\n",
    "    # STEP 2.1: Pass the features from encoder \n",
    "    F_S_hat = representation_encoder(F_S)\n",
    "    \n",
    "    # STEP 2.2: Get Initial Agent Tokens\n",
    "    # TODO: can we get rid of for loop?\n",
    "    # Since every image will have different number of foreground pixels, it is not possible\n",
    "    # to combine the foreground pixels of images in a single tensor. We may pad the tensors\n",
    "    # since max number of foreground pixels is equal to the image area.\n",
    "    X, L = [], []\n",
    "    # TODO: This part assumes we are doing 1-shot learning\n",
    "    for i, m in enumerate(M_s):  # M_s has shape (batchsize, 1, 16, 16)\n",
    "      m = m.squeeze(0)  # Get a single mask, shape (16, 16)\n",
    "\n",
    "      fg = np.where(m == 1.) # get foreground pixels\n",
    "      bg = np.where(m == 0.) # get background pixels\n",
    "      \n",
    "      # Create tensor with shape [num_foreground_pix, 2] where the last dimension has (x,y) locations of foreground pixels\n",
    "      foreground_pix = torch.stack((torch.from_numpy(fg[0]), torch.from_numpy(fg[1])), dim=1)\n",
    "      background_pix = torch.stack((torch.from_numpy(bg[0]), torch.from_numpy(bg[1])), dim=1)\n",
    "\n",
    "      X.append(foreground_pix)\n",
    "      L.append(background_pix)\n",
    "\n",
    "    tokens = init_agent_tokens(num_tokens, X, L, f_s) # every token has [K,c] dim for every sample in a batch\n",
    "    \n",
    "    print(tokens.shape)\n",
    "    \n",
    "    # STEP 3: Pass initial agent tokens through Agent Learning Decoder\n",
    "    # and obtain agent tokens.\n",
    "    tokens = agent_learning_decoder(tokens, F_S_hat, M_s, bypass_ot=False)\n",
    "    \n",
    "    print(tokens.shape)\n",
    "    # STEP 4: Pass agent tokens through Agent Matching Decoder\n",
    "    break"
   ]
  },
  {
   "cell_type": "code",
   "execution_count": null,
   "metadata": {},
   "outputs": [],
   "source": []
  },
  {
   "cell_type": "markdown",
   "metadata": {},
   "source": [
    "TODO, can we assume: Batch size used in the paper is pretty low (batchsize = 4),\n",
    "even though it is not discussed, this may be due to the for loops we need to use\n",
    "to obtain foreground pixels and construct foreground mask for every image."
   ]
  }
 ],
 "metadata": {
  "colab": {
   "provenance": []
  },
  "kernelspec": {
   "display_name": "Python 3 (ipykernel)",
   "language": "python",
   "name": "python3"
  },
  "language_info": {
   "codemirror_mode": {
    "name": "ipython",
    "version": 3
   },
   "file_extension": ".py",
   "mimetype": "text/x-python",
   "name": "python",
   "nbconvert_exporter": "python",
   "pygments_lexer": "ipython3",
   "version": "3.10.9"
  }
 },
 "nbformat": 4,
 "nbformat_minor": 1
}
